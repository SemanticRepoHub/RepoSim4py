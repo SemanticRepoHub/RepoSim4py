{
 "cells": [
  {
   "cell_type": "markdown",
   "id": "12c40d5e",
   "metadata": {},
   "source": [
    "# Dataset Processing"
   ]
  },
  {
   "cell_type": "code",
   "execution_count": 1,
   "id": "65d9828a",
   "metadata": {
    "ExecuteTime": {
     "end_time": "2023-07-25T14:40:18.715493Z",
     "start_time": "2023-07-25T14:40:11.102673Z"
    }
   },
   "outputs": [],
   "source": [
    "import json\n",
    "import re\n",
    "\n",
    "# Open json file\n",
    "with open(\"all_data.json\", \"r\") as f:\n",
    "    data = json.load(f)\n",
    "    f.close()\n",
    "\n",
    "# Remove the '/' at the end of each repository\n",
    "labels = list(data.keys())\n",
    "for label in labels:\n",
    "    repo_list = []\n",
    "    for repo in data[label]:\n",
    "        repo = repo.rstrip(\"/\")\n",
    "        repo_list.append(repo)\n",
    "    data[label] = repo_list\n",
    "\n",
    "# Remove not match \"user/repo\" pattern data\n",
    "for label in labels:\n",
    "    repo_list = []\n",
    "    for repo in data[label]:\n",
    "        if re.fullmatch(r\"(\\d|\\w|-|.)*/{1}(\\d|\\w|-|.)*\", repo):\n",
    "            repo_list.append(repo)\n",
    "    data[label] = repo_list\n",
    "\n",
    "# Update json file\n",
    "data_str = json.dumps(data, indent=4)\n",
    "with open(\"all_data.json\", \"w\") as f:\n",
    "    f.write(data_str)\n",
    "    f.close()"
   ]
  },
  {
   "cell_type": "code",
   "execution_count": 2,
   "id": "8c658b64",
   "metadata": {
    "ExecuteTime": {
     "end_time": "2023-07-25T14:40:18.719966Z",
     "start_time": "2023-07-25T14:40:18.716505Z"
    }
   },
   "outputs": [
    {
     "name": "stdout",
     "output_type": "stream",
     "text": [
      "456\n"
     ]
    }
   ],
   "source": [
    "import pickle\n",
    "\n",
    "# Open json file\n",
    "with open(\"all_data.json\", \"r\") as f:\n",
    "    data = json.load(f)\n",
    "    f.close()\n",
    "\n",
    "REPOS = {}\n",
    "labels = list(data.keys())\n",
    "for label in labels:\n",
    "    for repo in data[label]:\n",
    "        REPOS[repo] = label\n",
    "\n",
    "# Write total data into REPOS.pkl\n",
    "print(len(REPOS.items()))\n",
    "with open(\"REPOS.pkl\", \"wb\") as f:\n",
    "      pickle.dump(REPOS, f)"
   ]
  },
  {
   "cell_type": "code",
   "execution_count": 3,
   "id": "ef053027",
   "metadata": {
    "ExecuteTime": {
     "end_time": "2023-07-25T14:40:18.723218Z",
     "start_time": "2023-07-25T14:40:18.720418Z"
    }
   },
   "outputs": [
    {
     "name": "stdout",
     "output_type": "stream",
     "text": [
      "315\n"
     ]
    }
   ],
   "source": [
    "# Train data\n",
    "with open(\"REPOS_train.pkl\", \"rb\") as f:\n",
    "    REPOS_train = pickle.load(f)\n",
    "    f.close()\n",
    "print(len(REPOS_train.items()))"
   ]
  },
  {
   "cell_type": "code",
   "execution_count": 4,
   "outputs": [
    {
     "name": "stdout",
     "output_type": "stream",
     "text": [
      "100\n"
     ]
    }
   ],
   "source": [
    "# Validation data\n",
    "with open(\"REPOS_validation.pkl\", \"rb\") as f:\n",
    "    REPOS_validation = pickle.load(f)\n",
    "    f.close()\n",
    "print(len(REPOS_validation.items()))"
   ],
   "metadata": {
    "collapsed": false,
    "ExecuteTime": {
     "end_time": "2023-07-25T14:40:18.726705Z",
     "start_time": "2023-07-25T14:40:18.723892Z"
    }
   }
  },
  {
   "cell_type": "code",
   "execution_count": 5,
   "outputs": [
    {
     "name": "stdout",
     "output_type": "stream",
     "text": [
      "41\n"
     ]
    }
   ],
   "source": [
    "# Test data\n",
    "with open(\"REPOS_test.pkl\", \"rb\") as f:\n",
    "    REPOS_test = pickle.load(f)\n",
    "    f.close()\n",
    "print(len(REPOS_test.items()))"
   ],
   "metadata": {
    "collapsed": false,
    "ExecuteTime": {
     "end_time": "2023-07-25T14:40:18.730578Z",
     "start_time": "2023-07-25T14:40:18.728298Z"
    }
   }
  },
  {
   "cell_type": "code",
   "execution_count": null,
   "outputs": [],
   "source": [],
   "metadata": {
    "collapsed": false
   }
  }
 ],
 "metadata": {
  "kernelspec": {
   "display_name": "Python 3 (ipykernel)",
   "language": "python",
   "name": "python3"
  },
  "language_info": {
   "codemirror_mode": {
    "name": "ipython",
    "version": 3
   },
   "file_extension": ".py",
   "mimetype": "text/x-python",
   "name": "python",
   "nbconvert_exporter": "python",
   "pygments_lexer": "ipython3",
   "version": "3.10.12"
  }
 },
 "nbformat": 4,
 "nbformat_minor": 5
}
