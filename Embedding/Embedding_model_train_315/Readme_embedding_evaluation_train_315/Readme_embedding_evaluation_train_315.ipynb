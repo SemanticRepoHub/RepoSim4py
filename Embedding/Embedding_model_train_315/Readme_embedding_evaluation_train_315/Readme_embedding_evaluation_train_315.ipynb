{
 "cells": [
  {
   "cell_type": "markdown",
   "metadata": {
    "collapsed": true
   },
   "source": [
    "# Readme embedding evaluation (315 repostitories / train set)"
   ]
  },
  {
   "cell_type": "markdown",
   "metadata": {},
   "source": [
    "## 1. Loading repository information"
   ]
  },
  {
   "cell_type": "code",
   "execution_count": null,
   "metadata": {},
   "outputs": [],
   "source": [
    "# Downloading repo_info_train.pkl\n",
    "!pip install gdown\n",
    "!gdown 13Z-ReDj4QcwlfvIgUlL6MNE5W2dcPmLr"
   ]
  },
  {
   "cell_type": "code",
   "execution_count": null,
   "metadata": {},
   "outputs": [],
   "source": [
    "import pickle\n",
    "\n",
    "with open(\"repo_info_train.pkl\", \"rb\") as f:\n",
    "    repo_info = pickle.load(f)\n",
    "    f.close()"
   ]
  },
  {
   "cell_type": "markdown",
   "metadata": {},
   "source": [
    "## 2. Download fine-tuning model"
   ]
  },
  {
   "cell_type": "code",
   "execution_count": null,
   "metadata": {},
   "outputs": [],
   "source": [
    "!pip3 install torch\n",
    "!pip3 install transformers\n",
    "# Downloading sentence transformers\n",
    "!pip3 install sentence-transformers\n",
    "# Downloading UniXcoder\n",
    "!wget https://raw.githubusercontent.com/microsoft/CodeBERT/master/UniXcoder/unixcoder.py\n",
    "# !curl -O https://raw.githubusercontent.com/microsoft/CodeBERT/master/UniXcoder/unixcoder.py"
   ]
  },
  {
   "cell_type": "code",
   "execution_count": null,
   "metadata": {},
   "outputs": [],
   "source": [
    "import torch\n",
    "\n",
    "device = (\n",
    "    \"cuda\"\n",
    "    if torch.cuda.is_available()\n",
    "    else \"mps\"\n",
    "    if torch.backends.mps.is_available()\n",
    "    else \"cpu\"\n",
    ")\n",
    "print(device)"
   ]
  },
  {
   "cell_type": "code",
   "execution_count": null,
   "metadata": {},
   "outputs": [],
   "source": [
    "unixcoder_model_names = [\n",
    "    \"microsoft/unixcoder-base-nine\",\n",
    "    \"microsoft/unixcoder-base\",\n",
    "    \"microsoft/unixcoder-base-unimodal\",\n",
    "    \"Lazyhope/unixcoder-nine-advtest\",\n",
    "    \"Lazyhope/unixcoder-clone-detection\",\n",
    "    \"Enoch/Unixcoder-Tuned-Code-Search-Py\"\n",
    "]\n",
    "sentence_transformer_model_names = [\n",
    "    \"sentence-transformers/all-mpnet-base-v2\",\n",
    "    \"sentence-transformers/multi-qa-mpnet-base-cos-v1\",\n",
    "    \"sentence-transformers/bert-base-nli-mean-tokens\",\n",
    "    \"sentence-transformers/paraphrase-multilingual-mpnet-base-v2\",\n",
    "    \"sentence-transformers/all-distilroberta-v1\",\n",
    "    \"sentence-transformers/distilbert-base-nli-mean-tokens\"\n",
    "]\n",
    "distil_bert_names = [\n",
    "    \"distilbert-base-uncased\"\n",
    "]"
   ]
  },
  {
   "cell_type": "code",
   "execution_count": null,
   "metadata": {},
   "outputs": [],
   "source": [
    "from unixcoder import UniXcoder\n",
    "from sentence_transformers import SentenceTransformer\n",
    "from transformers import AutoTokenizer, DistilBertModel\n",
    "\n",
    "unixcoder_models = {}\n",
    "sentence_transformer_models = {}\n",
    "distil_bert_models = {}\n",
    "\n",
    "# Initialise unixcoder model\n",
    "for u_name in unixcoder_model_names:\n",
    "    unixcoder_models[u_name] = UniXcoder(u_name)\n",
    "    unixcoder_models[u_name].to(device)\n",
    "\n",
    "# Initialise sentence transformer model\n",
    "for s_name in sentence_transformer_model_names:\n",
    "    sentence_transformer_models[s_name] = SentenceTransformer(model_name_or_path=s_name, device=device)\n",
    "\n",
    "# Initialise DistilBERT model\n",
    "for d_name in distil_bert_names:\n",
    "    distil_bert_models[d_name] = {}\n",
    "    distil_bert_models[d_name][\"tokenizer\"] = AutoTokenizer.from_pretrained(d_name, device=device)\n",
    "    distil_bert_models[d_name][\"model\"] = DistilBertModel.from_pretrained(d_name)"
   ]
  },
  {
   "cell_type": "markdown",
   "metadata": {},
   "source": [
    "## 3. Generating readme embeddings"
   ]
  },
  {
   "cell_type": "code",
   "execution_count": null,
   "metadata": {},
   "outputs": [],
   "source": [
    "# Getting readme embeddings\n",
    "def get_unixcoder_embeddings(data, model):\n",
    "    tokens_ids = model.tokenize([data], max_length=512, mode=\"<encoder-only>\")\n",
    "    source_ids = torch.tensor(tokens_ids).to(device)\n",
    "    _, embeddings = model(source_ids)\n",
    "    return embeddings\n",
    "\n",
    "# Getting readme embeddings by DistilBERT\n",
    "def get_bert_embeddings(data, bert_dict):\n",
    "    tokenizer = bert_dict[\"tokenizer\"]\n",
    "    model = bert_dict[\"model\"]\n",
    "    inputs = tokenizer(data, padding=True, truncation=True, max_length=512, return_tensors=\"pt\",)\n",
    "    outputs = model(**inputs)\n",
    "    embeddings = torch.mean(outputs.last_hidden_state, dim=1)\n",
    "    return embeddings\n",
    "\n",
    "# Getting other embbeddings\n",
    "def get_other_embeddings(data_list):\n",
    "    embeddings = {}\n",
    "\n",
    "    # Unixcoder model\n",
    "    for u_name, u_model in tqdm(unixcoder_models.items()):\n",
    "        print(f\" - Using {u_name} model - \")\n",
    "        embeddings_list = torch.concat([get_unixcoder_embeddings(data, u_model) for data in data_list])\n",
    "        embeddings[u_name] = embeddings_list\n",
    "\n",
    "    # Sentence transformer model\n",
    "    for s_name, s_model in tqdm(sentence_transformer_models.items()):\n",
    "        print(f\" - Using {s_name} model - \")\n",
    "        embeddings_list = s_model.encode(data_list, convert_to_tensor=True)\n",
    "        embeddings[s_name] = embeddings_list\n",
    "    \n",
    "    # Using DistilBERT model\n",
    "    for d_name, d_dict in tqdm(distil_bert_models.items()):\n",
    "        print(f\" - Using {d_name} model - \")\n",
    "        embeddings_list = torch.concat([get_bert_embeddings(data, d_dict) for data in data_list])\n",
    "        embeddings[d_name] = embeddings_list\n",
    "\n",
    "    return embeddings\n",
    "\n",
    "\n",
    "# Getting embeddings\n",
    "def get_embeddings(input_data=None, input_mode=None):\n",
    "    if input_data is None or not input_data:\n",
    "        return torch.zeros((768,), device=device)\n",
    "\n",
    "    with torch.no_grad():\n",
    "        if input_mode == \"readme\":\n",
    "            return get_other_embeddings(input_data)\n"
   ]
  },
  {
   "cell_type": "code",
   "execution_count": null,
   "metadata": {},
   "outputs": [],
   "source": [
    "from tqdm import tqdm\n",
    "\n",
    "# Generating readme embeddings\n",
    "for repo_name, repo_dict in tqdm(repo_info.items()):\n",
    "    print(f\" - Generating readme embeddings for {repo_name} - \")\n",
    "    repo_dict[\"readme_embeddings\"] = get_embeddings(input_data=repo_dict[\"readme\"], input_mode=\"readme\")"
   ]
  },
  {
   "cell_type": "markdown",
   "metadata": {},
   "source": [
    "## 4. Saving readme embeddings"
   ]
  },
  {
   "cell_type": "code",
   "execution_count": null,
   "metadata": {},
   "outputs": [],
   "source": [
    "save_device = \"cpu\"\n",
    "# Change the tensor format to CPU\n",
    "for repo_name, repo_dict in repo_info.items():\n",
    "    if type(repo_dict[\"readme_embeddings\"]) is torch.Tensor:\n",
    "        repo_info[repo_name][\"readme_embeddings\"] = repo_info[repo_name][\"readme_embeddings\"].to(save_device)\n",
    "    else:\n",
    "        for model_name, model_tensor in repo_dict[\"readme_embeddings\"].items():\n",
    "            repo_info[repo_name][\"readme_embeddings\"][model_name] = model_tensor.to(save_device)"
   ]
  },
  {
   "cell_type": "code",
   "execution_count": null,
   "metadata": {},
   "outputs": [],
   "source": [
    "# Check the tensor format\n",
    "for repo_name, repo_dict in repo_info.items():\n",
    "    if type(repo_dict[\"readme_embeddings\"]) is torch.Tensor:\n",
    "        print(repo_dict[\"readme_embeddings\"].get_device())\n",
    "    else:\n",
    "        for model_name, model_tensor in repo_dict[\"readme_embeddings\"].items():\n",
    "             print(repo_info[repo_name][\"readme_embeddings\"][model_name].get_device())"
   ]
  },
  {
   "cell_type": "code",
   "execution_count": null,
   "metadata": {},
   "outputs": [],
   "source": [
    "# Saving to repo_info_train_readme_embeddings.pkl\n",
    "with open(\"repo_info_train_readme_embeddings.pkl\", \"wb\") as f:\n",
    "    pickle.dump(repo_info, f)\n",
    "    f.close()"
   ]
  },
  {
   "cell_type": "markdown",
   "metadata": {},
   "source": [
    "## 5. Calculating similarity"
   ]
  },
  {
   "cell_type": "code",
   "execution_count": null,
   "metadata": {},
   "outputs": [],
   "source": [
    "from torch.nn import CosineSimilarity\n",
    "from itertools import combinations\n",
    "import pandas as pd\n",
    "\n",
    "cossim = CosineSimilarity(dim=0, eps=1e-8)\n",
    "res = []\n",
    "num_of_repos = len(repo_info)\n",
    "num_of_rows = num_of_repos * (num_of_repos - 1) // 2\n",
    "\n",
    "models = unixcoder_model_names + sentence_transformer_model_names + distil_bert_names\n",
    "\n",
    "for repo1, repo2 in tqdm(combinations(repo_info.keys(), 2), total=num_of_rows):\n",
    "    row = [repo1, repo2, repo_info[repo1][\"topic\"], repo_info[repo2][\"topic\"]]\n",
    "    for model_name in models:\n",
    "\n",
    "        if type(repo_info[repo1][\"readme_embeddings\"]) is torch.Tensor:\n",
    "            embedding1 = repo_info[repo1][\"readme_embeddings\"]\n",
    "        else:\n",
    "            # mean embedding\n",
    "            embedding1 = torch.mean(repo_info[repo1][\"readme_embeddings\"][model_name], dim=0)\n",
    "\n",
    "        if type(repo_info[repo2][\"readme_embeddings\"]) is torch.Tensor:\n",
    "            embedding2 = repo_info[repo2][\"readme_embeddings\"]\n",
    "        else:\n",
    "            # mean embedding\n",
    "            embedding2 = torch.mean(repo_info[repo2][\"readme_embeddings\"][model_name], dim=0)\n",
    "\n",
    "        similarity = cossim(embedding1, embedding2).cpu().detach().numpy().item()\n",
    "        row.append(similarity)\n",
    "\n",
    "    res.append(row)\n",
    "\n",
    "df = pd.DataFrame(res, columns=[\"repo1\", \"repo2\", \"topic1\", \"topic2\"] + models)\n",
    "df"
   ]
  },
  {
   "cell_type": "code",
   "execution_count": null,
   "metadata": {},
   "outputs": [],
   "source": [
    "df.dropna(inplace=True, subset=models)\n",
    "df.reset_index(drop=True, inplace=True)\n",
    "df"
   ]
  },
  {
   "cell_type": "code",
   "execution_count": null,
   "metadata": {},
   "outputs": [],
   "source": [
    "# Saving similarity calculation\n",
    "df.to_csv(\"readme_embedding_evaluation_train_315.csv\")"
   ]
  },
  {
   "cell_type": "markdown",
   "metadata": {},
   "source": [
    "## 6. Evaluating different models"
   ]
  },
  {
   "cell_type": "code",
   "execution_count": null,
   "metadata": {},
   "outputs": [],
   "source": [
    "from sklearn.metrics import roc_curve, auc\n",
    "import matplotlib.pyplot as plt\n",
    "\n",
    "model_auc = {}\n",
    "y_true = df['topic1'] == df['topic2']\n",
    "fig = plt.figure(figsize=(12, 10))\n",
    "\n",
    "\n",
    "def roc(model_name):\n",
    "    y_score = df[model_name]\n",
    "    fpr, tpr, thresholds = roc_curve(y_true, y_score)\n",
    "    roc_auc = auc(fpr, tpr)\n",
    "    model_auc[model_name] = roc_auc\n",
    "\n",
    "    plt.plot(fpr, tpr, label=model_name)\n",
    "\n",
    "\n",
    "for model in models:\n",
    "    roc(model)\n",
    "\n",
    "# Order labels by each model's auc score\n",
    "handles, labels = plt.gca().get_legend_handles_labels()\n",
    "order = sorted(range(len(labels)), key=lambda k: -model_auc[labels[k]])\n",
    "ordered_handles = [handles[idx] for idx in order]\n",
    "ordered_labels = [f'{labels[idx]} (AUC = {model_auc[labels[idx]]:.3f})' for idx in order]\n",
    "plt.legend(ordered_handles, ordered_labels, loc=\"lower right\")\n",
    "\n",
    "plt.plot([0, 1], [0, 1], 'k--', label='Random guess')\n",
    "plt.xlim([0.0, 1.0])\n",
    "plt.ylim([0.0, 1.05])\n",
    "plt.xlabel('False Positive Rate')\n",
    "plt.ylabel('True Positive Rate')\n",
    "plt.title(f'Receiver Operating Characteristic of different models')\n",
    "# Saving evaluation result\n",
    "plt.savefig('roc_readme_evaluation_train_315.png')\n",
    "plt.show()"
   ]
  },
  {
   "cell_type": "code",
   "execution_count": null,
   "metadata": {},
   "outputs": [],
   "source": [
    "model_auc"
   ]
  }
 ],
 "metadata": {
  "kernelspec": {
   "display_name": "Python 3 (ipykernel)",
   "language": "python",
   "name": "python3"
  },
  "language_info": {
   "codemirror_mode": {
    "name": "ipython",
    "version": 3
   },
   "file_extension": ".py",
   "mimetype": "text/x-python",
   "name": "python",
   "nbconvert_exporter": "python",
   "pygments_lexer": "ipython3",
   "version": "3.11.4"
  }
 },
 "nbformat": 4,
 "nbformat_minor": 1
}
