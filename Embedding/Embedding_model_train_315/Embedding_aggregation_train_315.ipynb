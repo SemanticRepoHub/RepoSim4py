{
 "cells": [
  {
   "cell_type": "markdown",
   "id": "774335bb",
   "metadata": {},
   "source": [
    "# Embedding aggregation (315 repositories / train set)"
   ]
  },
  {
   "cell_type": "markdown",
   "id": "b4e07f2e",
   "metadata": {},
   "source": [
    "## 1. Loading train code embeddings"
   ]
  },
  {
   "cell_type": "code",
   "execution_count": 1,
   "id": "e8907bae",
   "metadata": {},
   "outputs": [
    {
     "name": "stdout",
     "output_type": "stream",
     "text": [
      "Downloading...\n",
      "From (uriginal): https://drive.google.com/uc?id=1-HkKRI2PLxoTnUOJryONkqtGfvk4Y-xm\n",
      "From (redirected): https://drive.google.com/uc?id=1-HkKRI2PLxoTnUOJryONkqtGfvk4Y-xm&confirm=t&uuid=b72d0719-5fb3-4b14-81b0-f416210e4416\n",
      "To: /Users/Henry/Documents/PyCharmProjects/RepoSim4Py/Embedding/Embedding_model_train_315/repo_info_train_code_embeddings.pkl\n",
      "100%|██████████████████████████████████████| 10.1G/10.1G [23:19<00:00, 7.24MB/s]\n"
     ]
    }
   ],
   "source": [
    "!gdown 1-HkKRI2PLxoTnUOJryONkqtGfvk4Y-xm"
   ]
  },
  {
   "cell_type": "code",
   "execution_count": 2,
   "id": "0a544d29",
   "metadata": {},
   "outputs": [],
   "source": [
    "import pickle\n",
    "\n",
    "with open(\"repo_info_train_code_embeddings.pkl\", \"rb\") as f:\n",
    "    repo_info_train_code_embeddings = pickle.load(f)\n",
    "    f.close()"
   ]
  },
  {
   "cell_type": "markdown",
   "id": "45ba1c0a",
   "metadata": {},
   "source": [
    "## 2. Loading train doc embeddings"
   ]
  },
  {
   "cell_type": "code",
   "execution_count": 3,
   "id": "44b6702c",
   "metadata": {},
   "outputs": [
    {
     "name": "stdout",
     "output_type": "stream",
     "text": [
      "Downloading...\n",
      "From (uriginal): https://drive.google.com/uc?id=19A75A4XeOFL6wj7SHM2_mA8Nf398PcxW\n",
      "From (redirected): https://drive.google.com/uc?id=19A75A4XeOFL6wj7SHM2_mA8Nf398PcxW&confirm=t&uuid=fbc3d0cc-d427-4922-a2c6-73284918ea1b\n",
      "To: /Users/Henry/Documents/PyCharmProjects/RepoSim4Py/Embedding/Embedding_model_train_315/repo_info_train_doc_embeddings.pkl\n",
      "100%|██████████████████████████████████████| 5.97G/5.97G [07:42<00:00, 12.9MB/s]\n"
     ]
    }
   ],
   "source": [
    "!gdown 19A75A4XeOFL6wj7SHM2_mA8Nf398PcxW"
   ]
  },
  {
   "cell_type": "code",
   "execution_count": 4,
   "id": "363da8d0",
   "metadata": {},
   "outputs": [],
   "source": [
    "with open(\"repo_info_train_doc_embeddings.pkl\", \"rb\") as f:\n",
    "    repo_info_train_doc_embeddings = pickle.load(f)\n",
    "    f.close()"
   ]
  },
  {
   "cell_type": "markdown",
   "id": "9ae3b3c7",
   "metadata": {},
   "source": [
    "## 3. Loading train structure embeddings"
   ]
  },
  {
   "cell_type": "code",
   "execution_count": 5,
   "id": "885f471e",
   "metadata": {},
   "outputs": [
    {
     "name": "stdout",
     "output_type": "stream",
     "text": [
      "Downloading...\n",
      "From (uriginal): https://drive.google.com/uc?id=18rUC069v0x8KwdPZn1o0ptKE4I4a-Yxm\n",
      "From (redirected): https://drive.google.com/uc?id=18rUC069v0x8KwdPZn1o0ptKE4I4a-Yxm&confirm=t&uuid=f3a59f0a-9776-49a2-b7e9-0351ab152cf8\n",
      "To: /Users/Henry/Documents/PyCharmProjects/RepoSim4Py/Embedding/Embedding_model_train_315/repo_info_train_structure_embeddings.pkl\n",
      "100%|████████████████████████████████████████| 208M/208M [00:17<00:00, 12.1MB/s]\n"
     ]
    }
   ],
   "source": [
    "!gdown 18rUC069v0x8KwdPZn1o0ptKE4I4a-Yxm"
   ]
  },
  {
   "cell_type": "code",
   "execution_count": 6,
   "id": "4e118772",
   "metadata": {},
   "outputs": [],
   "source": [
    "with open(\"repo_info_train_structure_embeddings.pkl\", \"rb\") as f:\n",
    "    repo_info_train_structure_embeddings = pickle.load(f)\n",
    "    f.close()"
   ]
  },
  {
   "cell_type": "markdown",
   "id": "dd9c6109",
   "metadata": {},
   "source": [
    "## 4. Loading train requirements embeddings"
   ]
  },
  {
   "cell_type": "code",
   "execution_count": 7,
   "id": "a6fe92ee",
   "metadata": {},
   "outputs": [
    {
     "name": "stdout",
     "output_type": "stream",
     "text": [
      "Downloading...\n",
      "From (uriginal): https://drive.google.com/uc?id=1KXSXEyYoEgCa_d7ty9fGN5hE_hXUwGyL\n",
      "From (redirected): https://drive.google.com/uc?id=1KXSXEyYoEgCa_d7ty9fGN5hE_hXUwGyL&confirm=t&uuid=c746f8a8-83ce-41e1-93a7-bd69b1773fe4\n",
      "To: /Users/Henry/Documents/PyCharmProjects/RepoSim4Py/Embedding/Embedding_model_train_315/repo_info_train_requirements_embeddings.pkl\n",
      "100%|████████████████████████████████████████| 596M/596M [01:04<00:00, 9.24MB/s]\n"
     ]
    }
   ],
   "source": [
    "!gdown 1KXSXEyYoEgCa_d7ty9fGN5hE_hXUwGyL"
   ]
  },
  {
   "cell_type": "code",
   "execution_count": 8,
   "id": "54600fcf",
   "metadata": {},
   "outputs": [],
   "source": [
    "with open(\"repo_info_train_requirements_embeddings.pkl\", \"rb\") as f:\n",
    "    repo_info_train_requirements_embeddings = pickle.load(f)\n",
    "    f.close()"
   ]
  },
  {
   "cell_type": "markdown",
   "id": "421729d5",
   "metadata": {},
   "source": [
    "## 5. Loading train readme embeddings"
   ]
  },
  {
   "cell_type": "code",
   "execution_count": 9,
   "id": "ff5e6969",
   "metadata": {},
   "outputs": [
    {
     "name": "stdout",
     "output_type": "stream",
     "text": [
      "Downloading...\n",
      "From (uriginal): https://drive.google.com/uc?id=1unQtAQXUh-18b1CFT25ehu7igbxPwSb6\n",
      "From (redirected): https://drive.google.com/uc?id=1unQtAQXUh-18b1CFT25ehu7igbxPwSb6&confirm=t&uuid=cb958211-fcfb-408d-82d8-d373bc2f520b\n",
      "To: /Users/Henry/Documents/PyCharmProjects/RepoSim4Py/Embedding/Embedding_model_train_315/repo_info_train_readme_embeddings.pkl\n",
      "100%|████████████████████████████████████████| 242M/242M [00:19<00:00, 12.5MB/s]\n"
     ]
    }
   ],
   "source": [
    "!gdown 1unQtAQXUh-18b1CFT25ehu7igbxPwSb6"
   ]
  },
  {
   "cell_type": "code",
   "execution_count": 10,
   "id": "e8799ddb",
   "metadata": {},
   "outputs": [],
   "source": [
    "with open(\"repo_info_train_readme_embeddings.pkl\", \"rb\") as f:\n",
    "    repo_info_train_readme_embeddings = pickle.load(f)\n",
    "    f.close()"
   ]
  },
  {
   "cell_type": "markdown",
   "id": "8cee2c99",
   "metadata": {},
   "source": [
    "## 6. Embedding aggregation"
   ]
  },
  {
   "cell_type": "code",
   "execution_count": 11,
   "id": "d731d28b",
   "metadata": {},
   "outputs": [
    {
     "name": "stdout",
     "output_type": "stream",
     "text": [
      "Downloading...\n",
      "From (uriginal): https://drive.google.com/uc?id=13Z-ReDj4QcwlfvIgUlL6MNE5W2dcPmLr\n",
      "From (redirected): https://drive.google.com/uc?id=13Z-ReDj4QcwlfvIgUlL6MNE5W2dcPmLr&confirm=t&uuid=bfbb5cc5-410c-469e-81c0-6c82902eeb62\n",
      "To: /Users/Henry/Documents/PyCharmProjects/RepoSim4Py/Embedding/Embedding_model_train_315/repo_info_train.pkl\n",
      "100%|████████████████████████████████████████| 202M/202M [00:14<00:00, 13.8MB/s]\n"
     ]
    }
   ],
   "source": [
    "!gdown 13Z-ReDj4QcwlfvIgUlL6MNE5W2dcPmLr"
   ]
  },
  {
   "cell_type": "code",
   "execution_count": 12,
   "id": "49d41c22",
   "metadata": {},
   "outputs": [],
   "source": [
    "with open(\"repo_info_train.pkl\", \"rb\") as f:\n",
    "    repo_info_train = pickle.load(f)\n",
    "    f.close()"
   ]
  },
  {
   "cell_type": "code",
   "execution_count": 13,
   "id": "442356c1",
   "metadata": {},
   "outputs": [],
   "source": [
    "repo_info_train_embeddings = repo_info_train_code_embeddings\n",
    "\n",
    "for repo in repo_info_train:\n",
    "    repo_info_train_embeddings[repo][\"codes_embeddings\"] = repo_info_train_code_embeddings[repo][\"codes_embeddings\"]\n",
    "    repo_info_train_embeddings[repo][\"docs_embeddings\"] = repo_info_train_doc_embeddings[repo][\"docs_embeddings\"]\n",
    "    repo_info_train_embeddings[repo][\"structure_embeddings\"] = repo_info_train_structure_embeddings[repo][\"structure_embeddings\"]\n",
    "    repo_info_train_embeddings[repo][\"requirements_embeddings\"] = repo_info_train_requirements_embeddings[repo][\"requirements_embeddings\"]\n",
    "    repo_info_train_embeddings[repo][\"readme_embeddings\"] = repo_info_train_readme_embeddings[repo][\"readme_embeddings\"]"
   ]
  },
  {
   "cell_type": "code",
   "execution_count": 14,
   "id": "6ba95470",
   "metadata": {},
   "outputs": [],
   "source": [
    "with open(\"repo_info_train_embeddings.pkl\", \"wb\") as f:\n",
    "    pickle.dump(repo_info_train_embeddings, f)\n",
    "    f.close()"
   ]
  },
  {
   "cell_type": "markdown",
   "id": "7cfbbce5",
   "metadata": {},
   "source": [
    "## 7. Checking the correctness"
   ]
  },
  {
   "cell_type": "code",
   "execution_count": 18,
   "id": "2e771d6f",
   "metadata": {},
   "outputs": [
    {
     "name": "stdout",
     "output_type": "stream",
     "text": [
      "Downloading...\n",
      "From (uriginal): https://drive.google.com/uc?id=1qgd2F5CxXJ27u0F-Tix96uWlBSNK7GcJ\n",
      "From (redirected): https://drive.google.com/uc?id=1qgd2F5CxXJ27u0F-Tix96uWlBSNK7GcJ&confirm=t&uuid=ef138ff8-f092-42da-bd02-c0118ed55560\n",
      "To: /Users/Henry/Documents/PyCharmProjects/RepoSim4Py/Embedding/Embedding_model_train_315/repo_info_train_embeddings.pkl\n",
      "100%|████████████████████████████████████████| 251M/251M [00:06<00:00, 36.0MB/s]\n"
     ]
    }
   ],
   "source": [
    "!gdown 1gYpZW-rWdyOskNgbwDrmOg_Ij4nMJ6_V # Making this file to a google drive link\n",
    "# Or using \"repo_info_train_embeddings.pkl\" directly"
   ]
  },
  {
   "cell_type": "code",
   "execution_count": null,
   "id": "40291fdb",
   "metadata": {},
   "outputs": [],
   "source": [
    "import pickle\n",
    "with open(\"repo_info_train_embeddings.pkl\", \"rb\") as f:\n",
    "    repo_info_train_embeddings = pickle.load(f)\n",
    "    f.close()"
   ]
  },
  {
   "cell_type": "code",
   "execution_count": null,
   "id": "fb53ee40",
   "metadata": {},
   "outputs": [],
   "source": [
    "next(iter(repo_info_train_embeddings.values())).keys()"
   ]
  }
 ],
 "metadata": {
  "kernelspec": {
   "display_name": "Python 3 (ipykernel)",
   "language": "python",
   "name": "python3"
  },
  "language_info": {
   "codemirror_mode": {
    "name": "ipython",
    "version": 3
   },
   "file_extension": ".py",
   "mimetype": "text/x-python",
   "name": "python",
   "nbconvert_exporter": "python",
   "pygments_lexer": "ipython3",
   "version": "3.10.12"
  }
 },
 "nbformat": 4,
 "nbformat_minor": 5
}
