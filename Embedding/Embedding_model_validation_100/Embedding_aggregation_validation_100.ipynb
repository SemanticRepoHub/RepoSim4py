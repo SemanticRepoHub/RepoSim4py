{
 "cells": [
  {
   "cell_type": "markdown",
   "id": "774335bb",
   "metadata": {},
   "source": [
    "# Embedding aggregation (100 repositories / validation set)"
   ]
  },
  {
   "cell_type": "markdown",
   "id": "b4e07f2e",
   "metadata": {},
   "source": [
    "## 1. Loading validation code embeddings"
   ]
  },
  {
   "cell_type": "code",
   "execution_count": null,
   "id": "e8907bae",
   "metadata": {},
   "outputs": [],
   "source": [
    "!pip3 install gdown\n",
    "!gdown 1EYm03h0z373Y214gcLku5ko8tC7l311p"
   ]
  },
  {
   "cell_type": "code",
   "execution_count": null,
   "id": "0a544d29",
   "metadata": {},
   "outputs": [],
   "source": [
    "import pickle\n",
    "\n",
    "with open(\"repo_info_validation_code_embeddings.pkl\", \"rb\") as f:\n",
    "    repo_info_train_code_embeddings = pickle.load(f)\n",
    "    f.close()"
   ]
  },
  {
   "cell_type": "markdown",
   "id": "45ba1c0a",
   "metadata": {},
   "source": [
    "## 2. Loading validation doc embeddings"
   ]
  },
  {
   "cell_type": "code",
   "execution_count": null,
   "id": "44b6702c",
   "metadata": {},
   "outputs": [],
   "source": [
    "!gdown 1cAes4txSkMVzpTXPLKjETz9zEYoEHPDD"
   ]
  },
  {
   "cell_type": "code",
   "execution_count": null,
   "id": "363da8d0",
   "metadata": {},
   "outputs": [],
   "source": [
    "with open(\"repo_info_validation_doc_embeddings.pkl\", \"rb\") as f:\n",
    "    repo_info_train_doc_embeddings = pickle.load(f)\n",
    "    f.close()"
   ]
  },
  {
   "cell_type": "markdown",
   "id": "9ae3b3c7",
   "metadata": {},
   "source": [
    "## 3. Loading validation structure embeddings"
   ]
  },
  {
   "cell_type": "code",
   "execution_count": null,
   "id": "885f471e",
   "metadata": {},
   "outputs": [],
   "source": [
    "!gdown 1IgyUSw3C9w4ICj5l_cbxU0tWH3Tw6F-O"
   ]
  },
  {
   "cell_type": "code",
   "execution_count": null,
   "id": "4e118772",
   "metadata": {},
   "outputs": [],
   "source": [
    "with open(\"repo_info_validation_structure_embeddings.pkl\", \"rb\") as f:\n",
    "    repo_info_train_structure_embeddings = pickle.load(f)\n",
    "    f.close()"
   ]
  },
  {
   "cell_type": "markdown",
   "id": "dd9c6109",
   "metadata": {},
   "source": [
    "## 4. Loading validation requirements embeddings"
   ]
  },
  {
   "cell_type": "code",
   "execution_count": null,
   "id": "a6fe92ee",
   "metadata": {},
   "outputs": [],
   "source": [
    "!gdown 1DL4nB6-B17bqXH7CD9ry4ORdrHWFyC8i"
   ]
  },
  {
   "cell_type": "code",
   "execution_count": null,
   "id": "54600fcf",
   "metadata": {},
   "outputs": [],
   "source": [
    "with open(\"repo_info_validation_requirements_embeddings.pkl\", \"rb\") as f:\n",
    "    repo_info_train_requirements_embeddings = pickle.load(f)\n",
    "    f.close()"
   ]
  },
  {
   "cell_type": "markdown",
   "id": "421729d5",
   "metadata": {},
   "source": [
    "## 5. Loading validation readme embeddings"
   ]
  },
  {
   "cell_type": "code",
   "execution_count": null,
   "id": "ff5e6969",
   "metadata": {},
   "outputs": [],
   "source": [
    "!gdown 164O8Z9AhRpWGLoe19dk450W0LOyvvjBo"
   ]
  },
  {
   "cell_type": "code",
   "execution_count": null,
   "id": "e8799ddb",
   "metadata": {},
   "outputs": [],
   "source": [
    "with open(\"repo_info_validation_readme_embeddings.pkl\", \"rb\") as f:\n",
    "    repo_info_train_readme_embeddings = pickle.load(f)\n",
    "    f.close()"
   ]
  },
  {
   "cell_type": "markdown",
   "id": "8cee2c99",
   "metadata": {},
   "source": [
    "## 6. Embedding aggregation"
   ]
  },
  {
   "cell_type": "code",
   "execution_count": null,
   "id": "d731d28b",
   "metadata": {},
   "outputs": [],
   "source": [
    "!gdown 12njH7JojRSgK6yzfHmhdZSrnfVN9x9NQ"
   ]
  },
  {
   "cell_type": "code",
   "execution_count": null,
   "id": "49d41c22",
   "metadata": {},
   "outputs": [],
   "source": [
    "with open(\"repo_info_validation.pkl\", \"rb\") as f:\n",
    "    repo_info_train = pickle.load(f)\n",
    "    f.close()"
   ]
  },
  {
   "cell_type": "code",
   "execution_count": null,
   "id": "442356c1",
   "metadata": {},
   "outputs": [],
   "source": [
    "repo_info_train_embeddings = repo_info_train_code_embeddings\n",
    "\n",
    "for repo in repo_info_train:\n",
    "    repo_info_train_embeddings[repo][\"codes_embeddings\"] = repo_info_train_code_embeddings[repo][\"codes_embeddings\"]\n",
    "    repo_info_train_embeddings[repo][\"docs_embeddings\"] = repo_info_train_doc_embeddings[repo][\"docs_embeddings\"]\n",
    "    repo_info_train_embeddings[repo][\"structure_embeddings\"] = repo_info_train_structure_embeddings[repo][\"structure_embeddings\"]\n",
    "    repo_info_train_embeddings[repo][\"requirements_embeddings\"] = repo_info_train_requirements_embeddings[repo][\"requirements_embeddings\"]\n",
    "    repo_info_train_embeddings[repo][\"readme_embeddings\"] = repo_info_train_readme_embeddings[repo][\"readme_embeddings\"]"
   ]
  },
  {
   "cell_type": "code",
   "execution_count": null,
   "id": "6ba95470",
   "metadata": {},
   "outputs": [],
   "source": [
    "with open(\"repo_info_validation_embeddings.pkl\", \"wb\") as f:\n",
    "    pickle.dump(repo_info_train_embeddings, f)\n",
    "    f.close()"
   ]
  },
  {
   "cell_type": "markdown",
   "id": "7cfbbce5",
   "metadata": {},
   "source": [
    "## 7. Checking the correctness"
   ]
  },
  {
   "cell_type": "code",
   "execution_count": null,
   "id": "2e771d6f",
   "metadata": {},
   "outputs": [],
   "source": [
    "!gdown 1WOqffTwS2AA8KDYOcA78vg_tCtVhx71T # Making this file to a google drive link\n",
    "# Or using \"repo_info_validation_embeddings.pkl\" directly"
   ]
  },
  {
   "cell_type": "code",
   "execution_count": null,
   "id": "40291fdb",
   "metadata": {},
   "outputs": [],
   "source": [
    "import pickle\n",
    "with open(\"repo_info_validation_embeddings.pkl\", \"rb\") as f:\n",
    "    repo_info_train_embeddings = pickle.load(f)\n",
    "    f.close()"
   ]
  },
  {
   "cell_type": "code",
   "execution_count": null,
   "id": "fb53ee40",
   "metadata": {},
   "outputs": [],
   "source": [
    "next(iter(repo_info_train_embeddings.values())).keys()"
   ]
  }
 ],
 "metadata": {
  "kernelspec": {
   "display_name": "Python 3 (ipykernel)",
   "language": "python",
   "name": "python3"
  },
  "language_info": {
   "codemirror_mode": {
    "name": "ipython",
    "version": 3
   },
   "file_extension": ".py",
   "mimetype": "text/x-python",
   "name": "python",
   "nbconvert_exporter": "python",
   "pygments_lexer": "ipython3",
   "version": "3.11.4"
  }
 },
 "nbformat": 4,
 "nbformat_minor": 5
}
