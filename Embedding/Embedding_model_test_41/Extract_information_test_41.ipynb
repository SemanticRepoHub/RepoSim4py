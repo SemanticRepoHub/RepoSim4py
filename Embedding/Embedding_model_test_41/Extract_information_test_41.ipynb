{
 "cells": [
  {
   "cell_type": "markdown",
   "metadata": {
    "collapsed": true
   },
   "source": [
    "# Extracting information from 41 repositories (test set)"
   ]
  },
  {
   "cell_type": "markdown",
   "metadata": {},
   "source": [
    "## 1. Installing inspect4py"
   ]
  },
  {
   "cell_type": "code",
   "execution_count": null,
   "metadata": {},
   "outputs": [],
   "source": [
    "!pip install inspect4py"
   ]
  },
  {
   "cell_type": "code",
   "execution_count": null,
   "metadata": {},
   "outputs": [],
   "source": [
    "!inspect4py --version"
   ]
  },
  {
   "cell_type": "markdown",
   "metadata": {},
   "source": [
    "## 2. Loading dataset"
   ]
  },
  {
   "cell_type": "code",
   "execution_count": null,
   "metadata": {},
   "outputs": [],
   "source": [
    "import pickle\n",
    "\n",
    "REPOS = {}\n",
    "with open(\"../../Dataset/REPOS_test.pkl\", \"rb\") as f:\n",
    "    REPOS = pickle.load(f)\n",
    "    f.close()\n",
    "print(len(REPOS.items()))"
   ]
  },
  {
   "cell_type": "markdown",
   "metadata": {},
   "source": [
    "## 3. Extracting information: code, docs, structure, requirements, and readme"
   ]
  },
  {
   "cell_type": "code",
   "execution_count": null,
   "metadata": {},
   "outputs": [],
   "source": [
    "!mkdir -p output\n",
    "for repo in REPOS:\n",
    "    !mkdir -p {repo} & git clone {f\"https://github.com/{repo}.git\"} {repo}\n",
    "    !inspect4py -i {repo} -o output/ {repo} -dt -sc -rm -r"
   ]
  },
  {
   "cell_type": "code",
   "execution_count": null,
   "metadata": {},
   "outputs": [],
   "source": [
    "# Find codes and codes' documents and append into list.\n",
    "def traversal_codes_and_docs(funcs, codes_list, docs_list):\n",
    "    for func_name, func_info in funcs.items():\n",
    "        if func_info.get(\"source_code\") is not None:\n",
    "            codes_list.append(func_info[\"source_code\"])\n",
    "        if func_info.get(\"doc\") is None:\n",
    "            continue\n",
    "        for key in [\"full\", \"long_description\", \"short_description\"]:\n",
    "            if func_info[\"doc\"].get(key) is not None:\n",
    "                docs_list.append(f\"{func_name} {func_info['doc'].get(key)}\")\n",
    "\n",
    "\n",
    "# Extract codes and codes' documents\n",
    "def extract_codes_and_docs(filepath):\n",
    "    codes_list = []\n",
    "    docs_list = []\n",
    "\n",
    "    with open(filepath, \"r\") as f:\n",
    "        json_info = json.load(f)\n",
    "\n",
    "    for element in [\"requirements\", \"directory_tree\", \"readme_files\"]:\n",
    "        json_info.pop(element, None)\n",
    "\n",
    "    for name, files in json_info.items():\n",
    "        for file in files:\n",
    "            if file.get(\"functions\") is not None:\n",
    "                traversal_codes_and_docs(file[\"functions\"], codes_list, docs_list)\n",
    "            if file.get(\"classes\") is not None:\n",
    "                for class_name, class_info in file[\"classes\"].items():\n",
    "                    if class_info.get(\"methods\") is not None:\n",
    "                        traversal_codes_and_docs(class_info[\"methods\"], codes_list, docs_list)\n",
    "\n",
    "    return codes_list, docs_list"
   ]
  },
  {
   "cell_type": "code",
   "execution_count": null,
   "metadata": {},
   "outputs": [],
   "source": [
    "# Extract other information\n",
    "def extract_other_information(filepath, element):\n",
    "    element_list = []\n",
    "\n",
    "    with open(filepath, \"r\") as f:\n",
    "        json_info = json.load(f)\n",
    "\n",
    "    if json_info.get(element) is not None:\n",
    "        for key, value in json_info.get(element).items():\n",
    "            if element == \"requirements\":\n",
    "                element_list.append(key)\n",
    "            else:\n",
    "                element_list.append(value)\n",
    "\n",
    "    return element_list"
   ]
  },
  {
   "cell_type": "code",
   "execution_count": null,
   "metadata": {},
   "outputs": [],
   "source": [
    "import json\n",
    "\n",
    "repo_info = {}\n",
    "for repo, topic in REPOS.items():\n",
    "    repo_info[repo] = {}\n",
    "    codes_list, docs_list = extract_codes_and_docs(f\"output/{repo}/directory_info.json\")\n",
    "    repo_info[repo][\"docs\"] = docs_list\n",
    "    repo_info[repo][\"codes\"] = codes_list\n",
    "    repo_info[repo][\"structure\"] = extract_other_information(f\"output/{repo}/directory_info.json\", \"directory_tree\")\n",
    "    repo_info[repo][\"requirements\"] = extract_other_information(f\"output/{repo}/directory_info.json\", \"requirements\")\n",
    "    repo_info[repo][\"readme\"] = extract_other_information(f\"output/{repo}/directory_info.json\", \"readme_files\")\n",
    "    repo_info[repo][\"topic\"] = topic"
   ]
  },
  {
   "cell_type": "markdown",
   "metadata": {},
   "source": [
    "## 4. Saving repositories' information"
   ]
  },
  {
   "cell_type": "code",
   "execution_count": null,
   "metadata": {},
   "outputs": [],
   "source": [
    "with open(\"repo_info_test.pkl\", \"wb\") as f:\n",
    "    pickle.dump(repo_info, f)"
   ]
  },
  {
   "cell_type": "code",
   "execution_count": null,
   "metadata": {},
   "outputs": [],
   "source": [
    "with open(\"repo_info_test.pkl\", \"rb\") as f:\n",
    "    repo_info_check = pickle.load(f)\n",
    "print(len(repo_info_check))"
   ]
  },
  {
   "cell_type": "code",
   "execution_count": null,
   "metadata": {},
   "outputs": [],
   "source": []
  }
 ],
 "metadata": {
  "kernelspec": {
   "display_name": "Python 3 (ipykernel)",
   "language": "python",
   "name": "python3"
  },
  "language_info": {
   "codemirror_mode": {
    "name": "ipython",
    "version": 3
   },
   "file_extension": ".py",
   "mimetype": "text/x-python",
   "name": "python",
   "nbconvert_exporter": "python",
   "pygments_lexer": "ipython3",
   "version": "3.11.4"
  }
 },
 "nbformat": 4,
 "nbformat_minor": 1
}
