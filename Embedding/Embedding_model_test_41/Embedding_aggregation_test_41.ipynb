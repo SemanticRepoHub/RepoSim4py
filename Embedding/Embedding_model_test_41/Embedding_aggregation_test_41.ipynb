{
 "cells": [
  {
   "cell_type": "markdown",
   "id": "774335bb",
   "metadata": {},
   "source": [
    "# Embedding aggregation (41 repositories / test set)"
   ]
  },
  {
   "cell_type": "markdown",
   "id": "b4e07f2e",
   "metadata": {},
   "source": [
    "## 1. Loading test code embeddings"
   ]
  },
  {
   "cell_type": "code",
   "execution_count": 1,
   "id": "e8907bae",
   "metadata": {},
   "outputs": [
    {
     "name": "stdout",
     "output_type": "stream",
     "text": [
      "Downloading...\n",
      "From (uriginal): https://drive.google.com/uc?id=1--2BIZ8uLcA3nX7qi5bCZjNNoEH44df5\n",
      "From (redirected): https://drive.google.com/uc?id=1--2BIZ8uLcA3nX7qi5bCZjNNoEH44df5&confirm=t&uuid=6fef665a-c18e-43bb-bdba-b0afdb809119\n",
      "To: /Users/henry/Documents/PycharmProjects/RepoSim4Py/Embedding/Embedding_model_test_41/repo_info_test_code_embeddings.pkl\n",
      "100%|████████████████████████████████████████| 345M/345M [00:25<00:00, 13.6MB/s]\n"
     ]
    }
   ],
   "source": [
    "!gdown 1--2BIZ8uLcA3nX7qi5bCZjNNoEH44df5"
   ]
  },
  {
   "cell_type": "code",
   "execution_count": 2,
   "id": "0a544d29",
   "metadata": {},
   "outputs": [],
   "source": [
    "import pickle\n",
    "\n",
    "with open(\"repo_info_test_code_embeddings.pkl\", \"rb\") as f:\n",
    "    repo_info_train_code_embeddings = pickle.load(f)\n",
    "    f.close()"
   ]
  },
  {
   "cell_type": "markdown",
   "id": "45ba1c0a",
   "metadata": {},
   "source": [
    "## 2. Loading test doc embeddings"
   ]
  },
  {
   "cell_type": "code",
   "execution_count": 3,
   "id": "44b6702c",
   "metadata": {},
   "outputs": [
    {
     "name": "stdout",
     "output_type": "stream",
     "text": [
      "Downloading...\n",
      "From: https://drive.google.com/uc?id=1--TXKRxtzki9GhOR363NC9Z8vI4xC5Lb\n",
      "To: /Users/henry/Documents/PycharmProjects/RepoSim4Py/Embedding/Embedding_model_test_41/repo_info_test_doc_embeddings.pkl\n",
      "100%|██████████████████████████████████████| 46.1M/46.1M [00:03<00:00, 15.3MB/s]\n"
     ]
    }
   ],
   "source": [
    "!gdown 1--TXKRxtzki9GhOR363NC9Z8vI4xC5Lb"
   ]
  },
  {
   "cell_type": "code",
   "execution_count": 4,
   "id": "363da8d0",
   "metadata": {},
   "outputs": [],
   "source": [
    "with open(\"repo_info_test_doc_embeddings.pkl\", \"rb\") as f:\n",
    "    repo_info_train_doc_embeddings = pickle.load(f)\n",
    "    f.close()"
   ]
  },
  {
   "cell_type": "markdown",
   "id": "9ae3b3c7",
   "metadata": {},
   "source": [
    "## 3. Loading test structure embeddings"
   ]
  },
  {
   "cell_type": "code",
   "execution_count": 5,
   "id": "885f471e",
   "metadata": {},
   "outputs": [
    {
     "name": "stdout",
     "output_type": "stream",
     "text": [
      "Downloading...\n",
      "From: https://drive.google.com/uc?id=1-1xfdTZG6fjW9NRSRVJXwPjiAioLF-3X\n",
      "To: /Users/henry/Documents/PycharmProjects/RepoSim4Py/Embedding/Embedding_model_test_41/repo_info_test_structure_embeddings.pkl\n",
      "100%|██████████████████████████████████████| 20.0M/20.0M [00:01<00:00, 11.4MB/s]\n"
     ]
    }
   ],
   "source": [
    "!gdown 1-1xfdTZG6fjW9NRSRVJXwPjiAioLF-3X"
   ]
  },
  {
   "cell_type": "code",
   "execution_count": 6,
   "id": "4e118772",
   "metadata": {},
   "outputs": [],
   "source": [
    "with open(\"repo_info_test_structure_embeddings.pkl\", \"rb\") as f:\n",
    "    repo_info_train_structure_embeddings = pickle.load(f)\n",
    "    f.close()"
   ]
  },
  {
   "cell_type": "markdown",
   "id": "dd9c6109",
   "metadata": {},
   "source": [
    "## 4. Loading test requirements embeddings"
   ]
  },
  {
   "cell_type": "code",
   "execution_count": 7,
   "id": "a6fe92ee",
   "metadata": {},
   "outputs": [
    {
     "name": "stdout",
     "output_type": "stream",
     "text": [
      "Downloading...\n",
      "From: https://drive.google.com/uc?id=1-AVqEQvzyT6cR9lKkyNhiz1I47dwMyY2\n",
      "To: /Users/henry/Documents/PycharmProjects/RepoSim4Py/Embedding/Embedding_model_test_41/repo_info_test_requirements_embeddings.pkl\n",
      "100%|██████████████████████████████████████| 21.9M/21.9M [00:01<00:00, 12.5MB/s]\n"
     ]
    }
   ],
   "source": [
    "!gdown 1-AVqEQvzyT6cR9lKkyNhiz1I47dwMyY2"
   ]
  },
  {
   "cell_type": "code",
   "execution_count": 8,
   "id": "54600fcf",
   "metadata": {},
   "outputs": [],
   "source": [
    "with open(\"repo_info_test_requirements_embeddings.pkl\", \"rb\") as f:\n",
    "    repo_info_train_requirements_embeddings = pickle.load(f)\n",
    "    f.close()"
   ]
  },
  {
   "cell_type": "markdown",
   "id": "421729d5",
   "metadata": {},
   "source": [
    "## 5. Loading test readme embeddings"
   ]
  },
  {
   "cell_type": "code",
   "execution_count": 9,
   "id": "ff5e6969",
   "metadata": {},
   "outputs": [
    {
     "name": "stdout",
     "output_type": "stream",
     "text": [
      "Downloading...\n",
      "From: https://drive.google.com/uc?id=1-10YFqwzqCVEGe4OVBiRtD1feeHPbdTz\n",
      "To: /Users/henry/Documents/PycharmProjects/RepoSim4Py/Embedding/Embedding_model_test_41/repo_info_test_readme_embeddings.pkl\n",
      "100%|██████████████████████████████████████| 20.1M/20.1M [00:02<00:00, 8.66MB/s]\n"
     ]
    }
   ],
   "source": [
    "!gdown 1-10YFqwzqCVEGe4OVBiRtD1feeHPbdTz"
   ]
  },
  {
   "cell_type": "code",
   "execution_count": 10,
   "id": "e8799ddb",
   "metadata": {},
   "outputs": [],
   "source": [
    "with open(\"repo_info_test_readme_embeddings.pkl\", \"rb\") as f:\n",
    "    repo_info_train_readme_embeddings = pickle.load(f)\n",
    "    f.close()"
   ]
  },
  {
   "cell_type": "markdown",
   "id": "8cee2c99",
   "metadata": {},
   "source": [
    "## 6. Embedding aggregation"
   ]
  },
  {
   "cell_type": "code",
   "execution_count": 11,
   "id": "d731d28b",
   "metadata": {},
   "outputs": [
    {
     "name": "stdout",
     "output_type": "stream",
     "text": [
      "Downloading...\n",
      "From: https://drive.google.com/uc?id=1EE5y_u2_RTWk0k1Z2RwELj1eHoc7WeH_\n",
      "To: /Users/henry/Documents/PycharmProjects/RepoSim4Py/Embedding/Embedding_model_test_41/repo_info_test.pkl\n",
      "100%|██████████████████████████████████████| 19.8M/19.8M [00:01<00:00, 14.1MB/s]\n"
     ]
    }
   ],
   "source": [
    "!gdown 1EE5y_u2_RTWk0k1Z2RwELj1eHoc7WeH_"
   ]
  },
  {
   "cell_type": "code",
   "execution_count": 12,
   "id": "49d41c22",
   "metadata": {},
   "outputs": [],
   "source": [
    "with open(\"repo_info_test.pkl\", \"rb\") as f:\n",
    "    repo_info_train = pickle.load(f)\n",
    "    f.close()"
   ]
  },
  {
   "cell_type": "code",
   "execution_count": 13,
   "id": "442356c1",
   "metadata": {},
   "outputs": [],
   "source": [
    "repo_info_train_embeddings = repo_info_train_code_embeddings\n",
    "\n",
    "for repo in repo_info_train:\n",
    "    repo_info_train_embeddings[repo][\"codes_embeddings\"] = repo_info_train_code_embeddings[repo][\"codes_embeddings\"]\n",
    "    repo_info_train_embeddings[repo][\"docs_embeddings\"] = repo_info_train_doc_embeddings[repo][\"docs_embeddings\"]\n",
    "    repo_info_train_embeddings[repo][\"structure_embeddings\"] = repo_info_train_structure_embeddings[repo][\"structure_embeddings\"]\n",
    "    repo_info_train_embeddings[repo][\"requirements_embeddings\"] = repo_info_train_requirements_embeddings[repo][\"requirements_embeddings\"]\n",
    "    repo_info_train_embeddings[repo][\"readme_embeddings\"] = repo_info_train_readme_embeddings[repo][\"readme_embeddings\"]"
   ]
  },
  {
   "cell_type": "code",
   "execution_count": 14,
   "id": "6ba95470",
   "metadata": {},
   "outputs": [],
   "source": [
    "with open(\"repo_info_test_embeddings.pkl\", \"wb\") as f:\n",
    "    pickle.dump(repo_info_train_embeddings, f)\n",
    "    f.close()"
   ]
  },
  {
   "cell_type": "markdown",
   "id": "7cfbbce5",
   "metadata": {},
   "source": [
    "## 7. Checking the correctness"
   ]
  },
  {
   "cell_type": "code",
   "execution_count": 15,
   "id": "2e771d6f",
   "metadata": {},
   "outputs": [
    {
     "name": "stdout",
     "output_type": "stream",
     "text": [
      "Downloading...\n",
      "From (uriginal): https://drive.google.com/uc?id=1x4g24q2qKW2oqKemVmerxZkZ9ZCzvlZK\n",
      "From (redirected): https://drive.google.com/uc?id=1x4g24q2qKW2oqKemVmerxZkZ9ZCzvlZK&confirm=t&uuid=5514e11d-36fd-4f63-85ed-11aaf60de807\n",
      "To: /Users/henry/Documents/PycharmProjects/RepoSim4Py/Embedding/Embedding_model_test_41/repo_info_test_embeddings.pkl\n",
      "100%|████████████████████████████████████████| 374M/374M [00:26<00:00, 14.1MB/s]\n"
     ]
    }
   ],
   "source": [
    "!gdown 1x4g24q2qKW2oqKemVmerxZkZ9ZCzvlZK # Making this file to a google drive link\n",
    "# Or using \"repo_info_test_embeddings.pkl\" directly"
   ]
  },
  {
   "cell_type": "code",
   "execution_count": 16,
   "id": "40291fdb",
   "metadata": {},
   "outputs": [],
   "source": [
    "import pickle\n",
    "with open(\"repo_info_test_embeddings.pkl\", \"rb\") as f:\n",
    "    repo_info_train_embeddings = pickle.load(f)\n",
    "    f.close()"
   ]
  },
  {
   "cell_type": "code",
   "execution_count": 17,
   "id": "fb53ee40",
   "metadata": {},
   "outputs": [
    {
     "data": {
      "text/plain": [
       "dict_keys(['docs', 'codes', 'structure', 'requirements', 'readme', 'topic', 'codes_embeddings', 'docs_embeddings', 'structure_embeddings', 'requirements_embeddings', 'readme_embeddings'])"
      ]
     },
     "execution_count": 17,
     "metadata": {},
     "output_type": "execute_result"
    }
   ],
   "source": [
    "next(iter(repo_info_train_embeddings.values())).keys()"
   ]
  }
 ],
 "metadata": {
  "kernelspec": {
   "display_name": "Python 3 (ipykernel)",
   "language": "python",
   "name": "python3"
  },
  "language_info": {
   "codemirror_mode": {
    "name": "ipython",
    "version": 3
   },
   "file_extension": ".py",
   "mimetype": "text/x-python",
   "name": "python",
   "nbconvert_exporter": "python",
   "pygments_lexer": "ipython3",
   "version": "3.11.4"
  }
 },
 "nbformat": 4,
 "nbformat_minor": 5
}
