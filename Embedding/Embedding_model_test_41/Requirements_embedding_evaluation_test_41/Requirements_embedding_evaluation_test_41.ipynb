{
 "cells": [
  {
   "cell_type": "markdown",
   "metadata": {
    "collapsed": true,
    "id": "GbbXufL8pjCF"
   },
   "source": [
    "# Requirements embedding evaluation (41 repositories / test set)"
   ]
  },
  {
   "cell_type": "markdown",
   "metadata": {
    "id": "WgoZZRaGpjCG"
   },
   "source": [
    "## 1. Loading repository information"
   ]
  },
  {
   "cell_type": "code",
   "execution_count": null,
   "metadata": {
    "colab": {
     "base_uri": "https://localhost:8080/"
    },
    "executionInfo": {
     "elapsed": 11545,
     "status": "ok",
     "timestamp": 1688928381353,
     "user": {
      "displayName": "张洪霖",
      "userId": "05817443353637144391"
     },
     "user_tz": -60
    },
    "id": "j6qfVXpUpjCG",
    "outputId": "e7db984b-f7ce-4b04-dbf3-c97b0ae3b9cd"
   },
   "outputs": [],
   "source": [
    "# Downloading repo_info_train.pkl\n",
    "!pip install gdown\n",
    "!gdown 1EE5y_u2_RTWk0k1Z2RwELj1eHoc7WeH_"
   ]
  },
  {
   "cell_type": "code",
   "execution_count": null,
   "metadata": {
    "executionInfo": {
     "elapsed": 6,
     "status": "ok",
     "timestamp": 1688928381354,
     "user": {
      "displayName": "张洪霖",
      "userId": "05817443353637144391"
     },
     "user_tz": -60
    },
    "id": "Cfi3kJjjpjCH"
   },
   "outputs": [],
   "source": [
    "import pickle\n",
    "\n",
    "with open(\"repo_info_test.pkl\", \"rb\") as f:\n",
    "    repo_info = pickle.load(f)\n",
    "    f.close()"
   ]
  },
  {
   "cell_type": "markdown",
   "metadata": {
    "id": "hSDUowN7pjCH"
   },
   "source": [
    "## 2. Download fine-tuning model"
   ]
  },
  {
   "cell_type": "code",
   "execution_count": null,
   "metadata": {
    "colab": {
     "base_uri": "https://localhost:8080/"
    },
    "executionInfo": {
     "elapsed": 8390,
     "status": "ok",
     "timestamp": 1688928389739,
     "user": {
      "displayName": "张洪霖",
      "userId": "05817443353637144391"
     },
     "user_tz": -60
    },
    "id": "ySX-R3ozpjCH",
    "outputId": "660499c9-bffe-4351-ffb5-8ef8aa05029b"
   },
   "outputs": [],
   "source": [
    "!pip3 install torch\n",
    "!pip3 install transformers\n",
    "# Downloading UniXcoder\n",
    "!wget https://raw.githubusercontent.com/microsoft/CodeBERT/master/UniXcoder/unixcoder.py\n",
    "# !curl -O https://raw.githubusercontent.com/microsoft/CodeBERT/master/UniXcoder/unixcoder.py"
   ]
  },
  {
   "cell_type": "code",
   "execution_count": null,
   "metadata": {
    "colab": {
     "base_uri": "https://localhost:8080/"
    },
    "executionInfo": {
     "elapsed": 6,
     "status": "ok",
     "timestamp": 1688928389740,
     "user": {
      "displayName": "张洪霖",
      "userId": "05817443353637144391"
     },
     "user_tz": -60
    },
    "id": "tbBazg7-pjCH",
    "outputId": "c801d8e2-6a71-4f47-9b68-ede96e27bdf3"
   },
   "outputs": [],
   "source": [
    "import torch\n",
    "\n",
    "device = (\n",
    "    \"cuda\"\n",
    "    if torch.cuda.is_available()\n",
    "    else \"mps\"\n",
    "    if torch.backends.mps.is_available()\n",
    "    else \"cpu\"\n",
    ")\n",
    "print(device)"
   ]
  },
  {
   "cell_type": "code",
   "execution_count": null,
   "metadata": {
    "executionInfo": {
     "elapsed": 3,
     "status": "ok",
     "timestamp": 1688928389740,
     "user": {
      "displayName": "张洪霖",
      "userId": "05817443353637144391"
     },
     "user_tz": -60
    },
    "id": "xw7CwyKTpjCH"
   },
   "outputs": [],
   "source": [
    "unixcoder_model_names = [\n",
    "    \"Lazyhope/unixcoder-nine-advtest\",\n",
    "]"
   ]
  },
  {
   "cell_type": "code",
   "execution_count": null,
   "metadata": {
    "executionInfo": {
     "elapsed": 2102,
     "status": "ok",
     "timestamp": 1688928391839,
     "user": {
      "displayName": "张洪霖",
      "userId": "05817443353637144391"
     },
     "user_tz": -60
    },
    "id": "uekMZ7klpjCH"
   },
   "outputs": [],
   "source": [
    "from unixcoder import UniXcoder\n",
    "\n",
    "unixcoder_models = {}\n",
    "\n",
    "# Initialise unixcoder model\n",
    "for u_name in unixcoder_model_names:\n",
    "    unixcoder_models[u_name] = UniXcoder(u_name)\n",
    "    unixcoder_models[u_name].to(device)"
   ]
  },
  {
   "cell_type": "markdown",
   "metadata": {
    "id": "35pwJ-rZpjCI"
   },
   "source": [
    "## 3. Generating requirements embeddings"
   ]
  },
  {
   "cell_type": "code",
   "execution_count": null,
   "metadata": {
    "executionInfo": {
     "elapsed": 6,
     "status": "ok",
     "timestamp": 1688928391840,
     "user": {
      "displayName": "张洪霖",
      "userId": "05817443353637144391"
     },
     "user_tz": -60
    },
    "id": "azP22XxzpjCI"
   },
   "outputs": [],
   "source": [
    "# Getting requirements embeddings\n",
    "def get_unixcoder_embeddings(data, model):\n",
    "    tokens_ids = model.tokenize([data], max_length=512, mode=\"<encoder-only>\")\n",
    "    source_ids = torch.tensor(tokens_ids).to(device)\n",
    "    _, embeddings = model(source_ids)\n",
    "    return embeddings\n",
    "\n",
    "# Getting other embbeddings\n",
    "def get_other_embeddings(data_list):\n",
    "    embeddings = {}\n",
    "\n",
    "    # Unixcoder model\n",
    "    for u_name, u_model in tqdm(unixcoder_models.items()):\n",
    "        print(f\" - Using {u_name} model - \")\n",
    "        embeddings_list = torch.concat([get_unixcoder_embeddings(data, u_model) for data in data_list])\n",
    "        embeddings[u_name] = embeddings_list\n",
    "\n",
    "    return embeddings\n",
    "\n",
    "\n",
    "# Getting embeddings\n",
    "def get_embeddings(input_data=None, input_mode=None):\n",
    "    if input_data is None or not input_data:\n",
    "        return torch.zeros((768,), device=device)\n",
    "\n",
    "    with torch.no_grad():\n",
    "        if input_mode == \"requirements\":\n",
    "            return get_other_embeddings(input_data)\n"
   ]
  },
  {
   "cell_type": "code",
   "execution_count": null,
   "metadata": {
    "colab": {
     "base_uri": "https://localhost:8080/"
    },
    "executionInfo": {
     "elapsed": 9566,
     "status": "ok",
     "timestamp": 1688928402194,
     "user": {
      "displayName": "张洪霖",
      "userId": "05817443353637144391"
     },
     "user_tz": -60
    },
    "id": "8Sz0Q3NspjCI",
    "outputId": "a0bc6944-77fe-4298-c6fe-5589ab08fe86"
   },
   "outputs": [],
   "source": [
    "from tqdm import tqdm\n",
    "\n",
    "# Generating requirements embedings\n",
    "for repo_name, repo_dict in tqdm(repo_info.items()):\n",
    "    print(f\" - Generating requirements embeddings for {repo_name} - \")\n",
    "    repo_dict[\"requirements_embeddings\"] = get_embeddings(input_data=repo_dict[\"requirements\"],\n",
    "                                                          input_mode=\"requirements\")"
   ]
  },
  {
   "cell_type": "markdown",
   "metadata": {
    "id": "GRJlZfhapjCJ"
   },
   "source": [
    "## 4. Saving requirements embeddings"
   ]
  },
  {
   "cell_type": "code",
   "execution_count": null,
   "metadata": {
    "executionInfo": {
     "elapsed": 5,
     "status": "ok",
     "timestamp": 1688928402194,
     "user": {
      "displayName": "张洪霖",
      "userId": "05817443353637144391"
     },
     "user_tz": -60
    },
    "id": "uFLYU8h_pjCJ"
   },
   "outputs": [],
   "source": [
    "# Change the tensor format to CPU\n",
    "save_device = \"cpu\"\n",
    "\n",
    "for repo_name, repo_dict in repo_info.items():\n",
    "    if type(repo_dict[\"requirements_embeddings\"]) is torch.Tensor:\n",
    "        repo_info[repo_name][\"requirements_embeddings\"] = repo_info[repo_name][\"requirements_embeddings\"].to(save_device)\n",
    "    else:\n",
    "        for model_name, model_tensor in repo_dict[\"requirements_embeddings\"].items():\n",
    "            repo_info[repo_name][\"requirements_embeddings\"][model_name] = model_tensor.to(save_device)\n"
   ]
  },
  {
   "cell_type": "code",
   "execution_count": null,
   "metadata": {
    "colab": {
     "base_uri": "https://localhost:8080/"
    },
    "executionInfo": {
     "elapsed": 4,
     "status": "ok",
     "timestamp": 1688928402194,
     "user": {
      "displayName": "张洪霖",
      "userId": "05817443353637144391"
     },
     "user_tz": -60
    },
    "id": "TaDP1CVKxJJL",
    "outputId": "f79c7105-2311-4244-dd54-1a79c30496f5"
   },
   "outputs": [],
   "source": [
    "# Check the tensor format\n",
    "for repo_name, repo_dict in repo_info.items():\n",
    "    if type(repo_dict[\"requirements_embeddings\"]) is torch.Tensor:\n",
    "        print(repo_dict[\"requirements_embeddings\"].get_device())\n",
    "    else:\n",
    "        for model_name, model_tensor in repo_dict[\"requirements_embeddings\"].items():\n",
    "             print(repo_info[repo_name][\"requirements_embeddings\"][model_name].get_device())\n"
   ]
  },
  {
   "cell_type": "code",
   "execution_count": null,
   "metadata": {
    "executionInfo": {
     "elapsed": 8,
     "status": "ok",
     "timestamp": 1688928403177,
     "user": {
      "displayName": "张洪霖",
      "userId": "05817443353637144391"
     },
     "user_tz": -60
    },
    "id": "EOB7SZGxpjCJ"
   },
   "outputs": [],
   "source": [
    "# Saving to repo_info_test_requirements_embeddings.pkl\n",
    "with open(\"repo_info_test_requirements_embeddings.pkl\", \"wb\") as f:\n",
    "    pickle.dump(repo_info, f)\n",
    "    f.close()"
   ]
  },
  {
   "cell_type": "markdown",
   "metadata": {
    "id": "tkHps3_kpjCJ"
   },
   "source": [
    "## 5. Calculating similarity"
   ]
  },
  {
   "cell_type": "code",
   "execution_count": null,
   "metadata": {
    "colab": {
     "base_uri": "https://localhost:8080/",
     "height": 441
    },
    "executionInfo": {
     "elapsed": 399,
     "status": "ok",
     "timestamp": 1688928403569,
     "user": {
      "displayName": "张洪霖",
      "userId": "05817443353637144391"
     },
     "user_tz": -60
    },
    "id": "l8qoYjIupjCJ",
    "outputId": "25276e33-4c89-41f2-8154-fec4d4d9489a"
   },
   "outputs": [],
   "source": [
    "from torch.nn import CosineSimilarity\n",
    "from itertools import combinations\n",
    "import pandas as pd\n",
    "\n",
    "cossim = CosineSimilarity(dim=0, eps=1e-8)\n",
    "res = []\n",
    "num_of_repos = len(repo_info)\n",
    "num_of_rows = num_of_repos * (num_of_repos - 1) // 2\n",
    "\n",
    "models = unixcoder_model_names\n",
    "\n",
    "for repo1, repo2 in tqdm(combinations(repo_info.keys(), 2), total=num_of_rows):\n",
    "    row = [repo1, repo2, repo_info[repo1][\"topic\"], repo_info[repo2][\"topic\"]]\n",
    "    for model_name in models:\n",
    "\n",
    "        if type(repo_info[repo1][\"requirements_embeddings\"]) is torch.Tensor:\n",
    "            embedding1 = repo_info[repo1][\"requirements_embeddings\"]\n",
    "        else:\n",
    "            # mean embedding\n",
    "            embedding1 = torch.mean(repo_info[repo1][\"requirements_embeddings\"][model_name], dim=0)\n",
    "\n",
    "        if type(repo_info[repo2][\"requirements_embeddings\"]) is torch.Tensor:\n",
    "            embedding2 = repo_info[repo2][\"requirements_embeddings\"]\n",
    "        else:\n",
    "            # mean embedding\n",
    "            embedding2 = torch.mean(repo_info[repo2][\"requirements_embeddings\"][model_name], dim=0)\n",
    "\n",
    "        similarity = cossim(embedding1, embedding2).cpu().detach().numpy().item()\n",
    "        row.append(similarity)\n",
    "\n",
    "    res.append(row)\n",
    "\n",
    "df = pd.DataFrame(res, columns=[\"repo1\", \"repo2\", \"topic1\", \"topic2\"] + models)\n",
    "df"
   ]
  },
  {
   "cell_type": "code",
   "execution_count": null,
   "metadata": {
    "colab": {
     "base_uri": "https://localhost:8080/",
     "height": 424
    },
    "executionInfo": {
     "elapsed": 7,
     "status": "ok",
     "timestamp": 1688928403570,
     "user": {
      "displayName": "张洪霖",
      "userId": "05817443353637144391"
     },
     "user_tz": -60
    },
    "id": "TyL6_uiPpjCJ",
    "outputId": "ef14ede8-9080-4bec-e12d-62cabd451ae1"
   },
   "outputs": [],
   "source": [
    "df.dropna(inplace=True, subset=models)\n",
    "df.reset_index(drop=True, inplace=True)\n",
    "df"
   ]
  },
  {
   "cell_type": "code",
   "execution_count": null,
   "metadata": {
    "executionInfo": {
     "elapsed": 400,
     "status": "ok",
     "timestamp": 1688928411630,
     "user": {
      "displayName": "张洪霖",
      "userId": "05817443353637144391"
     },
     "user_tz": -60
    },
    "id": "nXf0Ctl9pjCK"
   },
   "outputs": [],
   "source": [
    "# Saving similarity calculation\n",
    "df.to_csv(\"requirements_embedding_evaluation_test_41.csv\")"
   ]
  },
  {
   "cell_type": "markdown",
   "metadata": {
    "id": "8J28mDlUpjCK"
   },
   "source": [
    "## 6. Evaluating different models"
   ]
  },
  {
   "cell_type": "code",
   "execution_count": null,
   "metadata": {
    "colab": {
     "base_uri": "https://localhost:8080/",
     "height": 872
    },
    "executionInfo": {
     "elapsed": 610,
     "status": "ok",
     "timestamp": 1688928421971,
     "user": {
      "displayName": "张洪霖",
      "userId": "05817443353637144391"
     },
     "user_tz": -60
    },
    "id": "g-o_fs6KpjCK",
    "outputId": "e51d6e7f-729f-4c81-c8b3-b67cc95d0cde",
    "is_executing": true
   },
   "outputs": [],
   "source": [
    "from sklearn.metrics import roc_curve, auc\n",
    "import matplotlib.pyplot as plt\n",
    "\n",
    "model_auc = {}\n",
    "y_true = df['topic1'] == df['topic2']\n",
    "fig = plt.figure(figsize=(12, 10))\n",
    "\n",
    "\n",
    "def roc(model_name):\n",
    "    y_score = df[model_name]\n",
    "    fpr, tpr, thresholds = roc_curve(y_true, y_score)\n",
    "    roc_auc = auc(fpr, tpr)\n",
    "    model_auc[model_name] = roc_auc\n",
    "\n",
    "    plt.plot(fpr, tpr, label=model_name)\n",
    "\n",
    "\n",
    "for model in models:\n",
    "    roc(model)\n",
    "\n",
    "# Order labels by each model's auc score\n",
    "handles, labels = plt.gca().get_legend_handles_labels()\n",
    "order = sorted(range(len(labels)), key=lambda k: -model_auc[labels[k]])\n",
    "ordered_handles = [handles[idx] for idx in order]\n",
    "ordered_labels = [f'{labels[idx]} (AUC = {model_auc[labels[idx]]:.3f})' for idx in order]\n",
    "plt.legend(ordered_handles, ordered_labels, loc=\"lower right\")\n",
    "\n",
    "plt.plot([0, 1], [0, 1], 'k--', label='Random guess')\n",
    "plt.xlim([0.0, 1.0])\n",
    "plt.ylim([0.0, 1.05])\n",
    "plt.xlabel('False Positive Rate')\n",
    "plt.ylabel('True Positive Rate')\n",
    "plt.title(f'Receiver Operating Characteristic of different models')\n",
    "# Saving evaluation result\n",
    "plt.savefig('roc_requirements_evaluation_test_41.png')\n",
    "plt.show()"
   ]
  },
  {
   "cell_type": "code",
   "execution_count": null,
   "metadata": {
    "colab": {
     "base_uri": "https://localhost:8080/"
    },
    "executionInfo": {
     "elapsed": 484,
     "status": "ok",
     "timestamp": 1688928425391,
     "user": {
      "displayName": "张洪霖",
      "userId": "05817443353637144391"
     },
     "user_tz": -60
    },
    "id": "33G0jp7xpjCK",
    "outputId": "da7655a4-3f4d-412d-a240-03fe59f22d32"
   },
   "outputs": [],
   "source": [
    "model_auc"
   ]
  }
 ],
 "metadata": {
  "accelerator": "GPU",
  "colab": {
   "gpuType": "A100",
   "machine_shape": "hm",
   "provenance": []
  },
  "kernelspec": {
   "display_name": "Python 3 (ipykernel)",
   "language": "python",
   "name": "python3"
  },
  "language_info": {
   "codemirror_mode": {
    "name": "ipython",
    "version": 3
   },
   "file_extension": ".py",
   "mimetype": "text/x-python",
   "name": "python",
   "nbconvert_exporter": "python",
   "pygments_lexer": "ipython3",
   "version": "3.10.12"
  }
 },
 "nbformat": 4,
 "nbformat_minor": 0
}
