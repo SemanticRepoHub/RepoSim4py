{
 "cells": [
  {
   "cell_type": "markdown",
   "id": "8e73ea2e",
   "metadata": {},
   "source": [
    "# Doc2Vec to requirements (315 repositories / train set)"
   ]
  },
  {
   "cell_type": "markdown",
   "id": "9e3495e6",
   "metadata": {},
   "source": [
    "## 1. Downloading the train set"
   ]
  },
  {
   "cell_type": "code",
   "execution_count": 1,
   "id": "9109b73b",
   "metadata": {},
   "outputs": [
    {
     "name": "stdout",
     "output_type": "stream",
     "text": [
      "Requirement already satisfied: gdown in /opt/homebrew/lib/python3.11/site-packages (4.7.1)\n",
      "Requirement already satisfied: filelock in /opt/homebrew/lib/python3.11/site-packages (from gdown) (3.12.2)\n",
      "Requirement already satisfied: requests[socks] in /opt/homebrew/lib/python3.11/site-packages (from gdown) (2.31.0)\n",
      "Requirement already satisfied: six in /opt/homebrew/lib/python3.11/site-packages (from gdown) (1.16.0)\n",
      "Requirement already satisfied: tqdm in /opt/homebrew/lib/python3.11/site-packages (from gdown) (4.65.0)\n",
      "Requirement already satisfied: beautifulsoup4 in /opt/homebrew/lib/python3.11/site-packages (from gdown) (4.12.2)\n",
      "Requirement already satisfied: soupsieve>1.2 in /opt/homebrew/lib/python3.11/site-packages (from beautifulsoup4->gdown) (2.4.1)\n",
      "Requirement already satisfied: charset-normalizer<4,>=2 in /opt/homebrew/lib/python3.11/site-packages (from requests[socks]->gdown) (3.1.0)\n",
      "Requirement already satisfied: idna<4,>=2.5 in /opt/homebrew/lib/python3.11/site-packages (from requests[socks]->gdown) (3.4)\n",
      "Requirement already satisfied: urllib3<3,>=1.21.1 in /opt/homebrew/lib/python3.11/site-packages (from requests[socks]->gdown) (2.0.3)\n",
      "Requirement already satisfied: certifi>=2017.4.17 in /opt/homebrew/lib/python3.11/site-packages (from requests[socks]->gdown) (2023.5.7)\n",
      "Requirement already satisfied: PySocks!=1.5.7,>=1.5.6 in /opt/homebrew/lib/python3.11/site-packages (from requests[socks]->gdown) (1.7.1)\n",
      "\n",
      "\u001B[1m[\u001B[0m\u001B[34;49mnotice\u001B[0m\u001B[1;39;49m]\u001B[0m\u001B[39;49m A new release of pip is available: \u001B[0m\u001B[31;49m23.0.1\u001B[0m\u001B[39;49m -> \u001B[0m\u001B[32;49m23.1.2\u001B[0m\n",
      "\u001B[1m[\u001B[0m\u001B[34;49mnotice\u001B[0m\u001B[1;39;49m]\u001B[0m\u001B[39;49m To update, run: \u001B[0m\u001B[32;49mpython3.11 -m pip install --upgrade pip\u001B[0m\n",
      "Downloading...\n",
      "From (uriginal): https://drive.google.com/uc?id=13Z-ReDj4QcwlfvIgUlL6MNE5W2dcPmLr\n",
      "From (redirected): https://drive.google.com/uc?id=13Z-ReDj4QcwlfvIgUlL6MNE5W2dcPmLr&confirm=t&uuid=681671a5-49ad-4a9d-9ed4-d4cf3fd9f980\n",
      "To: /Users/Henry/Documents/PyCharmProjects/RepoSim4Py/Doc2vec/repo_info_train.pkl\n",
      "100%|████████████████████████████████████████| 202M/202M [00:12<00:00, 15.7MB/s]\n"
     ]
    }
   ],
   "source": [
    "!pip3 install gdown\n",
    "!gdown 13Z-ReDj4QcwlfvIgUlL6MNE5W2dcPmLr"
   ]
  },
  {
   "cell_type": "code",
   "execution_count": 2,
   "id": "90956be9",
   "metadata": {},
   "outputs": [],
   "source": [
    "import pickle\n",
    "\n",
    "with open(\"repo_info_train.pkl\", \"rb\") as f:\n",
    "    repo_info_train = pickle.load(f)\n",
    "    f.close()"
   ]
  },
  {
   "cell_type": "code",
   "execution_count": 3,
   "id": "7e079096",
   "metadata": {},
   "outputs": [
    {
     "data": {
      "text/plain": [
       "'jet-admin/jet-bridge'"
      ]
     },
     "execution_count": 3,
     "metadata": {},
     "output_type": "execute_result"
    }
   ],
   "source": [
    "next(iter(repo_info_train.keys()))"
   ]
  },
  {
   "cell_type": "code",
   "execution_count": 4,
   "id": "81d5f39a",
   "metadata": {},
   "outputs": [
    {
     "data": {
      "text/plain": [
       "list"
      ]
     },
     "execution_count": 4,
     "metadata": {},
     "output_type": "execute_result"
    }
   ],
   "source": [
    "type(repo_info_train[next(iter(repo_info_train.keys()))][\"requirements\"]) # list"
   ]
  },
  {
   "cell_type": "code",
   "execution_count": 5,
   "id": "850bb57d",
   "metadata": {},
   "outputs": [
    {
     "data": {
      "text/plain": [
       "['cryptography',\n",
       " 'dateparser',\n",
       " 'graphene',\n",
       " 'graphql',\n",
       " 'jet-bridge',\n",
       " 'jet-django',\n",
       " 'jwt',\n",
       " 'Pillow',\n",
       " 'prompt-toolkit',\n",
       " 'requests',\n",
       " 'setuptools',\n",
       " 'six',\n",
       " 'SQLAlchemy',\n",
       " 'tornado',\n",
       " 'social-auth-core',\n",
       " 'social-auth-core-tweaked',\n",
       " 'social-auth-core2',\n",
       " 'social-core-optimized',\n",
       " 'steamid-social-auth-core']"
      ]
     },
     "execution_count": 5,
     "metadata": {},
     "output_type": "execute_result"
    }
   ],
   "source": [
    "repo_info_train[next(iter(repo_info_train.keys()))][\"requirements\"]"
   ]
  },
  {
   "cell_type": "code",
   "execution_count": 6,
   "id": "d57e7c5e",
   "metadata": {},
   "outputs": [
    {
     "data": {
      "text/plain": [
       "'cryptography dateparser graphene graphql jet-bridge jet-django jwt Pillow prompt-toolkit requests setuptools six SQLAlchemy tornado social-auth-core social-auth-core-tweaked social-auth-core2 social-core-optimized steamid-social-auth-core'"
      ]
     },
     "execution_count": 6,
     "metadata": {},
     "output_type": "execute_result"
    }
   ],
   "source": [
    "\" \".join(repo_info_train[next(iter(repo_info_train.keys()))][\"requirements\"])"
   ]
  },
  {
   "cell_type": "code",
   "execution_count": 29,
   "id": "b8417141",
   "metadata": {},
   "outputs": [
    {
     "name": "stdout",
     "output_type": "stream",
     "text": [
      "[  1  64  32  25  52  18  41  95  72  10  24 103  60 106  15  50  13  75\n",
      "  29  44  82 112  36  39  49  83  58  58 118  43  63  66   2  93 109  48\n",
      "  29  70  78   4  67  43  28  87 117 104  91  64  72  52  55  29  91   2\n",
      "  90  64  83  41  72 109  74  56  96  16 109  17  29 117 112  67  77  14\n",
      "  54  10   9  72  82  97  76  46  31  43  99  21 118  98   7  96  62  74\n",
      "  79  57 105  83  30  49   7  75  60  44  13  59  98  86  52 116  52  29\n",
      "  37 111 110  26  15 115  31  49  31  92 113   6  72 116  66  83   3  69\n",
      "  21 111  42  22  81  51  69  47  16  22 109  27  51  68 115   2  93 117\n",
      "  64  70  91  84  49  76  13 109  91   0  11  47  56  98  31  34   6  37\n",
      "  40  40  70  47  58  53 117  68  63   1  44 118  52 101  44  58  43  80\n",
      "   9 108  91 118  66  24  71  91  91  97 110  22  87  38  13  45   9  82\n",
      "  86  47  47 114  26 116 117  19 113  41 107 115  43  47  94  27  48  56\n",
      "  12  33  25  49  37  45  96  25  41  32  56   8  19 104  62 100 104   6\n",
      "  76  56  72  97 119   6  11  23  27  52  25  74  46  47   1  26  49  62\n",
      "  63  44  47  88 117  30  26  72  45   5  29  50  20  11  10  10   1  89\n",
      "  70  85   9  50  24  19  46  33  97  86  19   1  65  92 111  73  86  81\n",
      " 100  51  11 102  97  50  61  35  26  69  44  87  59  37 117  97  36  31\n",
      "  37  75  53  20  98  56   7  94  63]\n"
     ]
    }
   ],
   "source": [
    "from sklearn.preprocessing import LabelEncoder\n",
    "\n",
    "label_encoder = LabelEncoder()\n",
    "labels = [repo_info_train[repo_name][\"topic\"] for repo_name in list(repo_info_train.keys())]\n",
    "encoded_labels = label_encoder.fit_transform(labels)\n",
    "\n",
    "# Print the encoded labels\n",
    "print(encoded_labels)"
   ]
  },
  {
   "cell_type": "markdown",
   "id": "049bb4fb",
   "metadata": {},
   "source": [
    "## 2. Processing data and building corpus"
   ]
  },
  {
   "cell_type": "code",
   "execution_count": 7,
   "id": "6f5d72e5",
   "metadata": {},
   "outputs": [
    {
     "name": "stdout",
     "output_type": "stream",
     "text": [
      "Requirement already satisfied: gensim in /opt/homebrew/lib/python3.11/site-packages (4.3.1)\n",
      "Requirement already satisfied: numpy>=1.18.5 in /opt/homebrew/lib/python3.11/site-packages (from gensim) (1.25.0)\n",
      "Requirement already satisfied: scipy>=1.7.0 in /opt/homebrew/lib/python3.11/site-packages (from gensim) (1.11.1)\n",
      "Requirement already satisfied: smart-open>=1.8.1 in /opt/homebrew/lib/python3.11/site-packages (from gensim) (6.3.0)\n",
      "\n",
      "\u001B[1m[\u001B[0m\u001B[34;49mnotice\u001B[0m\u001B[1;39;49m]\u001B[0m\u001B[39;49m A new release of pip is available: \u001B[0m\u001B[31;49m23.0.1\u001B[0m\u001B[39;49m -> \u001B[0m\u001B[32;49m23.1.2\u001B[0m\n",
      "\u001B[1m[\u001B[0m\u001B[34;49mnotice\u001B[0m\u001B[1;39;49m]\u001B[0m\u001B[39;49m To update, run: \u001B[0m\u001B[32;49mpython3.11 -m pip install --upgrade pip\u001B[0m\n"
     ]
    }
   ],
   "source": [
    "!pip3 install gensim"
   ]
  },
  {
   "cell_type": "code",
   "execution_count": 11,
   "id": "5b5272c5",
   "metadata": {},
   "outputs": [],
   "source": [
    "# Building the corpus\n",
    "corpus = []\n",
    "for repo_name, repo_dict in repo_info_train.items():\n",
    "    requirements_str = \" \".join(repo_info_train[repo_name][\"requirements\"])\n",
    "    corpus.append(requirements_str)"
   ]
  },
  {
   "cell_type": "code",
   "execution_count": 12,
   "id": "2574084a",
   "metadata": {},
   "outputs": [
    {
     "data": {
      "text/plain": [
       "315"
      ]
     },
     "execution_count": 12,
     "metadata": {},
     "output_type": "execute_result"
    }
   ],
   "source": [
    "len(corpus)"
   ]
  },
  {
   "cell_type": "code",
   "execution_count": 13,
   "id": "f7bba4fd",
   "metadata": {},
   "outputs": [],
   "source": [
    "file_path = \"requirements_train_corpus.txt\"\n",
    "\n",
    "with open(file_path, \"w\") as file:\n",
    "    for sentence in corpus:\n",
    "        file.write(sentence + \"\\n\")\n",
    "\n",
    "file.close()"
   ]
  },
  {
   "cell_type": "markdown",
   "id": "1426f7f2",
   "metadata": {},
   "source": [
    "## 3. Building doc2vec model"
   ]
  },
  {
   "cell_type": "code",
   "execution_count": 14,
   "id": "84ed9d59",
   "metadata": {},
   "outputs": [],
   "source": [
    "import logging\n",
    "logging.basicConfig(format='%(asctime)s : %(levelname)s : %(message)s', level=logging.INFO)"
   ]
  },
  {
   "cell_type": "code",
   "execution_count": 35,
   "id": "d9b2098c",
   "metadata": {},
   "outputs": [],
   "source": [
    "import gensim\n",
    "import smart_open\n",
    "\n",
    "# Read corpus: an iterator\n",
    "def read_corpus(fname, tokens_only=False):\n",
    "    with smart_open.open(fname, encoding=\"utf-8\") as f:\n",
    "        for i, line in enumerate(f):\n",
    "            tokens = gensim.utils.simple_preprocess(line)\n",
    "            if tokens_only:\n",
    "                yield tokens\n",
    "            else:\n",
    "                # For training data, add tags\n",
    "                yield gensim.models.doc2vec.TaggedDocument(str(tokens), [encoded_labels[i]])\n",
    "\n",
    "train_corpus = list(read_corpus(file_path))"
   ]
  },
  {
   "cell_type": "code",
   "execution_count": 36,
   "id": "7d9efbad",
   "metadata": {},
   "outputs": [
    {
     "data": {
      "text/plain": [
       "315"
      ]
     },
     "execution_count": 36,
     "metadata": {},
     "output_type": "execute_result"
    }
   ],
   "source": [
    "len(train_corpus)"
   ]
  },
  {
   "cell_type": "code",
   "execution_count": 191,
   "id": "36405329",
   "metadata": {},
   "outputs": [
    {
     "name": "stderr",
     "output_type": "stream",
     "text": [
      "2023-07-06 19:04:13,972 : INFO : Doc2Vec lifecycle event {'params': 'Doc2Vec<dm/m,d10,n5,w5,mc2,s0.001,t3>', 'datetime': '2023-07-06T19:04:13.972474', 'gensim': '4.3.1', 'python': '3.10.12 (main, Jun 20 2023, 19:43:52) [Clang 14.0.3 (clang-1403.0.22.14.1)]', 'platform': 'macOS-13.4.1-arm64-arm-64bit', 'event': 'created'}\n"
     ]
    }
   ],
   "source": [
    "# Building the Doc2Vec model.\n",
    "model = gensim.models.doc2vec.Doc2Vec(vector_size=10, min_count=2, epochs=100)"
   ]
  },
  {
   "cell_type": "code",
   "execution_count": 192,
   "id": "d3ff9bfe",
   "metadata": {},
   "outputs": [
    {
     "name": "stderr",
     "output_type": "stream",
     "text": [
      "2023-07-06 19:04:14,135 : INFO : collecting all words and their counts\n",
      "2023-07-06 19:04:14,136 : WARNING : Each 'words' should be a list of words (usually unicode strings). First 'words' here is instead plain <class 'str'>.\n",
      "2023-07-06 19:04:14,136 : INFO : PROGRESS: at example #0, processed 0 words (0 words/s), 0 word types, 0 tags\n",
      "2023-07-06 19:04:14,163 : INFO : collected 32 word types and 120 unique tags from a corpus of 315 examples and 176450 words\n",
      "2023-07-06 19:04:14,164 : INFO : Creating a fresh vocabulary\n",
      "2023-07-06 19:04:14,165 : INFO : Doc2Vec lifecycle event {'msg': 'effective_min_count=2 retains 32 unique words (100.00% of original 32, drops 0)', 'datetime': '2023-07-06T19:04:14.165108', 'gensim': '4.3.1', 'python': '3.10.12 (main, Jun 20 2023, 19:43:52) [Clang 14.0.3 (clang-1403.0.22.14.1)]', 'platform': 'macOS-13.4.1-arm64-arm-64bit', 'event': 'prepare_vocab'}\n",
      "2023-07-06 19:04:14,165 : INFO : Doc2Vec lifecycle event {'msg': 'effective_min_count=2 leaves 176450 word corpus (100.00% of original 176450, drops 0)', 'datetime': '2023-07-06T19:04:14.165517', 'gensim': '4.3.1', 'python': '3.10.12 (main, Jun 20 2023, 19:43:52) [Clang 14.0.3 (clang-1403.0.22.14.1)]', 'platform': 'macOS-13.4.1-arm64-arm-64bit', 'event': 'prepare_vocab'}\n",
      "2023-07-06 19:04:14,166 : INFO : deleting the raw counts dictionary of 32 items\n",
      "2023-07-06 19:04:14,166 : INFO : sample=0.001 downsamples 29 most-common words\n",
      "2023-07-06 19:04:14,166 : INFO : Doc2Vec lifecycle event {'msg': 'downsampling leaves estimated 32570.69874485904 word corpus (18.5%% of prior 176450)', 'datetime': '2023-07-06T19:04:14.166694', 'gensim': '4.3.1', 'python': '3.10.12 (main, Jun 20 2023, 19:43:52) [Clang 14.0.3 (clang-1403.0.22.14.1)]', 'platform': 'macOS-13.4.1-arm64-arm-64bit', 'event': 'prepare_vocab'}\n",
      "2023-07-06 19:04:14,167 : INFO : estimated required memory for 32 words and 10 dimensions: 47360 bytes\n",
      "2023-07-06 19:04:14,168 : INFO : resetting layer weights\n"
     ]
    }
   ],
   "source": [
    "# Adding corpus to model.\n",
    "model.build_vocab(train_corpus)"
   ]
  },
  {
   "cell_type": "code",
   "execution_count": 193,
   "id": "7724a8c1",
   "metadata": {},
   "outputs": [
    {
     "name": "stderr",
     "output_type": "stream",
     "text": [
      "2023-07-06 19:04:14,315 : INFO : Doc2Vec lifecycle event {'msg': 'training model with 3 workers on 32 vocabulary and 10 features, using sg=0 hs=0 sample=0.001 negative=5 window=5 shrink_windows=True', 'datetime': '2023-07-06T19:04:14.315903', 'gensim': '4.3.1', 'python': '3.10.12 (main, Jun 20 2023, 19:43:52) [Clang 14.0.3 (clang-1403.0.22.14.1)]', 'platform': 'macOS-13.4.1-arm64-arm-64bit', 'event': 'train'}\n",
      "2023-07-06 19:04:14,369 : INFO : EPOCH 0: training on 176450 raw words (32746 effective words) took 0.0s, 698179 effective words/s\n",
      "2023-07-06 19:04:14,399 : INFO : EPOCH 1: training on 176450 raw words (33030 effective words) took 0.0s, 1123242 effective words/s\n",
      "2023-07-06 19:04:14,423 : INFO : EPOCH 2: training on 176450 raw words (32815 effective words) took 0.0s, 1494980 effective words/s\n",
      "2023-07-06 19:04:14,446 : INFO : EPOCH 3: training on 176450 raw words (33059 effective words) took 0.0s, 1524153 effective words/s\n",
      "2023-07-06 19:04:14,469 : INFO : EPOCH 4: training on 176450 raw words (32882 effective words) took 0.0s, 1481972 effective words/s\n",
      "2023-07-06 19:04:14,493 : INFO : EPOCH 5: training on 176450 raw words (32808 effective words) took 0.0s, 1414923 effective words/s\n",
      "2023-07-06 19:04:14,516 : INFO : EPOCH 6: training on 176450 raw words (32803 effective words) took 0.0s, 1536959 effective words/s\n",
      "2023-07-06 19:04:14,539 : INFO : EPOCH 7: training on 176450 raw words (33010 effective words) took 0.0s, 1568019 effective words/s\n",
      "2023-07-06 19:04:14,562 : INFO : EPOCH 8: training on 176450 raw words (32749 effective words) took 0.0s, 1514521 effective words/s\n",
      "2023-07-06 19:04:14,585 : INFO : EPOCH 9: training on 176450 raw words (33039 effective words) took 0.0s, 1552196 effective words/s\n",
      "2023-07-06 19:04:14,608 : INFO : EPOCH 10: training on 176450 raw words (33087 effective words) took 0.0s, 1497629 effective words/s\n",
      "2023-07-06 19:04:14,631 : INFO : EPOCH 11: training on 176450 raw words (32888 effective words) took 0.0s, 1517706 effective words/s\n",
      "2023-07-06 19:04:14,654 : INFO : EPOCH 12: training on 176450 raw words (32925 effective words) took 0.0s, 1496098 effective words/s\n",
      "2023-07-06 19:04:14,679 : INFO : EPOCH 13: training on 176450 raw words (32825 effective words) took 0.0s, 1439838 effective words/s\n",
      "2023-07-06 19:04:14,702 : INFO : EPOCH 14: training on 176450 raw words (32855 effective words) took 0.0s, 1482582 effective words/s\n",
      "2023-07-06 19:04:14,725 : INFO : EPOCH 15: training on 176450 raw words (32818 effective words) took 0.0s, 1468463 effective words/s\n",
      "2023-07-06 19:04:14,748 : INFO : EPOCH 16: training on 176450 raw words (32870 effective words) took 0.0s, 1489870 effective words/s\n",
      "2023-07-06 19:04:14,770 : INFO : EPOCH 17: training on 176450 raw words (33141 effective words) took 0.0s, 1525592 effective words/s\n",
      "2023-07-06 19:04:14,793 : INFO : EPOCH 18: training on 176450 raw words (32746 effective words) took 0.0s, 1497719 effective words/s\n",
      "2023-07-06 19:04:14,816 : INFO : EPOCH 19: training on 176450 raw words (32898 effective words) took 0.0s, 1466269 effective words/s\n",
      "2023-07-06 19:04:14,839 : INFO : EPOCH 20: training on 176450 raw words (32832 effective words) took 0.0s, 1527917 effective words/s\n",
      "2023-07-06 19:04:14,862 : INFO : EPOCH 21: training on 176450 raw words (33192 effective words) took 0.0s, 1470519 effective words/s\n",
      "2023-07-06 19:04:14,886 : INFO : EPOCH 22: training on 176450 raw words (33276 effective words) took 0.0s, 1452094 effective words/s\n",
      "2023-07-06 19:04:14,909 : INFO : EPOCH 23: training on 176450 raw words (32732 effective words) took 0.0s, 1491097 effective words/s\n",
      "2023-07-06 19:04:14,932 : INFO : EPOCH 24: training on 176450 raw words (32867 effective words) took 0.0s, 1514565 effective words/s\n",
      "2023-07-06 19:04:14,955 : INFO : EPOCH 25: training on 176450 raw words (32767 effective words) took 0.0s, 1555796 effective words/s\n",
      "2023-07-06 19:04:14,978 : INFO : EPOCH 26: training on 176450 raw words (32671 effective words) took 0.0s, 1486611 effective words/s\n",
      "2023-07-06 19:04:15,001 : INFO : EPOCH 27: training on 176450 raw words (32746 effective words) took 0.0s, 1501697 effective words/s\n",
      "2023-07-06 19:04:15,024 : INFO : EPOCH 28: training on 176450 raw words (32949 effective words) took 0.0s, 1464514 effective words/s\n",
      "2023-07-06 19:04:15,047 : INFO : EPOCH 29: training on 176450 raw words (32797 effective words) took 0.0s, 1473269 effective words/s\n",
      "2023-07-06 19:04:15,071 : INFO : EPOCH 30: training on 176450 raw words (33126 effective words) took 0.0s, 1454253 effective words/s\n",
      "2023-07-06 19:04:15,094 : INFO : EPOCH 31: training on 176450 raw words (32809 effective words) took 0.0s, 1478094 effective words/s\n",
      "2023-07-06 19:04:15,117 : INFO : EPOCH 32: training on 176450 raw words (32880 effective words) took 0.0s, 1522933 effective words/s\n",
      "2023-07-06 19:04:15,140 : INFO : EPOCH 33: training on 176450 raw words (32925 effective words) took 0.0s, 1505490 effective words/s\n",
      "2023-07-06 19:04:15,163 : INFO : EPOCH 34: training on 176450 raw words (32923 effective words) took 0.0s, 1477986 effective words/s\n",
      "2023-07-06 19:04:15,186 : INFO : EPOCH 35: training on 176450 raw words (32958 effective words) took 0.0s, 1519598 effective words/s\n",
      "2023-07-06 19:04:15,209 : INFO : EPOCH 36: training on 176450 raw words (32784 effective words) took 0.0s, 1463003 effective words/s\n",
      "2023-07-06 19:04:15,232 : INFO : EPOCH 37: training on 176450 raw words (33047 effective words) took 0.0s, 1601221 effective words/s\n",
      "2023-07-06 19:04:15,255 : INFO : EPOCH 38: training on 176450 raw words (32758 effective words) took 0.0s, 1502692 effective words/s\n",
      "2023-07-06 19:04:15,277 : INFO : EPOCH 39: training on 176450 raw words (32767 effective words) took 0.0s, 1498117 effective words/s\n",
      "2023-07-06 19:04:15,301 : INFO : EPOCH 40: training on 176450 raw words (32994 effective words) took 0.0s, 1484447 effective words/s\n",
      "2023-07-06 19:04:15,324 : INFO : EPOCH 41: training on 176450 raw words (32678 effective words) took 0.0s, 1443725 effective words/s\n",
      "2023-07-06 19:04:15,348 : INFO : EPOCH 42: training on 176450 raw words (32811 effective words) took 0.0s, 1435642 effective words/s\n",
      "2023-07-06 19:04:15,371 : INFO : EPOCH 43: training on 176450 raw words (32761 effective words) took 0.0s, 1483523 effective words/s\n",
      "2023-07-06 19:04:15,394 : INFO : EPOCH 44: training on 176450 raw words (32675 effective words) took 0.0s, 1467127 effective words/s\n",
      "2023-07-06 19:04:15,417 : INFO : EPOCH 45: training on 176450 raw words (32803 effective words) took 0.0s, 1485831 effective words/s\n",
      "2023-07-06 19:04:15,440 : INFO : EPOCH 46: training on 176450 raw words (33009 effective words) took 0.0s, 1510191 effective words/s\n",
      "2023-07-06 19:04:15,463 : INFO : EPOCH 47: training on 176450 raw words (32789 effective words) took 0.0s, 1507364 effective words/s\n",
      "2023-07-06 19:04:15,485 : INFO : EPOCH 48: training on 176450 raw words (32888 effective words) took 0.0s, 1589099 effective words/s\n",
      "2023-07-06 19:04:15,509 : INFO : EPOCH 49: training on 176450 raw words (32917 effective words) took 0.0s, 1446716 effective words/s\n",
      "2023-07-06 19:04:15,532 : INFO : EPOCH 50: training on 176450 raw words (33068 effective words) took 0.0s, 1444725 effective words/s\n",
      "2023-07-06 19:04:15,556 : INFO : EPOCH 51: training on 176450 raw words (32939 effective words) took 0.0s, 1510418 effective words/s\n",
      "2023-07-06 19:04:15,579 : INFO : EPOCH 52: training on 176450 raw words (32824 effective words) took 0.0s, 1526112 effective words/s\n",
      "2023-07-06 19:04:15,602 : INFO : EPOCH 53: training on 176450 raw words (32735 effective words) took 0.0s, 1537646 effective words/s\n",
      "2023-07-06 19:04:15,625 : INFO : EPOCH 54: training on 176450 raw words (32978 effective words) took 0.0s, 1501252 effective words/s\n",
      "2023-07-06 19:04:15,647 : INFO : EPOCH 55: training on 176450 raw words (33061 effective words) took 0.0s, 1550952 effective words/s\n",
      "2023-07-06 19:04:15,670 : INFO : EPOCH 56: training on 176450 raw words (32881 effective words) took 0.0s, 1526645 effective words/s\n",
      "2023-07-06 19:04:15,692 : INFO : EPOCH 57: training on 176450 raw words (32712 effective words) took 0.0s, 1512184 effective words/s\n",
      "2023-07-06 19:04:15,715 : INFO : EPOCH 58: training on 176450 raw words (33022 effective words) took 0.0s, 1559741 effective words/s\n"
     ]
    },
    {
     "name": "stderr",
     "output_type": "stream",
     "text": [
      "2023-07-06 19:04:15,737 : INFO : EPOCH 59: training on 176450 raw words (32846 effective words) took 0.0s, 1530123 effective words/s\n",
      "2023-07-06 19:04:15,760 : INFO : EPOCH 60: training on 176450 raw words (33051 effective words) took 0.0s, 1492981 effective words/s\n",
      "2023-07-06 19:04:15,783 : INFO : EPOCH 61: training on 176450 raw words (32975 effective words) took 0.0s, 1565145 effective words/s\n",
      "2023-07-06 19:04:15,807 : INFO : EPOCH 62: training on 176450 raw words (32852 effective words) took 0.0s, 1443074 effective words/s\n",
      "2023-07-06 19:04:15,830 : INFO : EPOCH 63: training on 176450 raw words (32776 effective words) took 0.0s, 1517841 effective words/s\n",
      "2023-07-06 19:04:15,852 : INFO : EPOCH 64: training on 176450 raw words (33002 effective words) took 0.0s, 1583706 effective words/s\n",
      "2023-07-06 19:04:15,875 : INFO : EPOCH 65: training on 176450 raw words (32943 effective words) took 0.0s, 1509511 effective words/s\n",
      "2023-07-06 19:04:15,897 : INFO : EPOCH 66: training on 176450 raw words (32718 effective words) took 0.0s, 1522706 effective words/s\n",
      "2023-07-06 19:04:15,920 : INFO : EPOCH 67: training on 176450 raw words (32864 effective words) took 0.0s, 1525469 effective words/s\n",
      "2023-07-06 19:04:15,942 : INFO : EPOCH 68: training on 176450 raw words (32733 effective words) took 0.0s, 1526847 effective words/s\n",
      "2023-07-06 19:04:15,964 : INFO : EPOCH 69: training on 176450 raw words (32961 effective words) took 0.0s, 1534604 effective words/s\n",
      "2023-07-06 19:04:15,986 : INFO : EPOCH 70: training on 176450 raw words (32588 effective words) took 0.0s, 1524927 effective words/s\n",
      "2023-07-06 19:04:16,009 : INFO : EPOCH 71: training on 176450 raw words (33090 effective words) took 0.0s, 1530073 effective words/s\n",
      "2023-07-06 19:04:16,031 : INFO : EPOCH 72: training on 176450 raw words (32992 effective words) took 0.0s, 1503546 effective words/s\n",
      "2023-07-06 19:04:16,054 : INFO : EPOCH 73: training on 176450 raw words (32896 effective words) took 0.0s, 1609197 effective words/s\n",
      "2023-07-06 19:04:16,077 : INFO : EPOCH 74: training on 176450 raw words (33180 effective words) took 0.0s, 1544453 effective words/s\n",
      "2023-07-06 19:04:16,099 : INFO : EPOCH 75: training on 176450 raw words (33146 effective words) took 0.0s, 1595050 effective words/s\n",
      "2023-07-06 19:04:16,122 : INFO : EPOCH 76: training on 176450 raw words (32735 effective words) took 0.0s, 1457134 effective words/s\n",
      "2023-07-06 19:04:16,145 : INFO : EPOCH 77: training on 176450 raw words (32981 effective words) took 0.0s, 1512552 effective words/s\n",
      "2023-07-06 19:04:16,168 : INFO : EPOCH 78: training on 176450 raw words (33109 effective words) took 0.0s, 1538254 effective words/s\n",
      "2023-07-06 19:04:16,190 : INFO : EPOCH 79: training on 176450 raw words (33154 effective words) took 0.0s, 1512457 effective words/s\n",
      "2023-07-06 19:04:16,213 : INFO : EPOCH 80: training on 176450 raw words (33048 effective words) took 0.0s, 1504778 effective words/s\n",
      "2023-07-06 19:04:16,235 : INFO : EPOCH 81: training on 176450 raw words (32835 effective words) took 0.0s, 1513110 effective words/s\n",
      "2023-07-06 19:04:16,258 : INFO : EPOCH 82: training on 176450 raw words (32579 effective words) took 0.0s, 1514527 effective words/s\n",
      "2023-07-06 19:04:16,280 : INFO : EPOCH 83: training on 176450 raw words (32872 effective words) took 0.0s, 1515394 effective words/s\n",
      "2023-07-06 19:04:16,303 : INFO : EPOCH 84: training on 176450 raw words (32827 effective words) took 0.0s, 1527192 effective words/s\n",
      "2023-07-06 19:04:16,325 : INFO : EPOCH 85: training on 176450 raw words (32697 effective words) took 0.0s, 1537166 effective words/s\n",
      "2023-07-06 19:04:16,354 : INFO : EPOCH 86: training on 176450 raw words (32879 effective words) took 0.0s, 1204425 effective words/s\n",
      "2023-07-06 19:04:16,376 : INFO : EPOCH 87: training on 176450 raw words (32594 effective words) took 0.0s, 1527044 effective words/s\n",
      "2023-07-06 19:04:16,399 : INFO : EPOCH 88: training on 176450 raw words (33025 effective words) took 0.0s, 1535163 effective words/s\n",
      "2023-07-06 19:04:16,421 : INFO : EPOCH 89: training on 176450 raw words (32802 effective words) took 0.0s, 1538044 effective words/s\n",
      "2023-07-06 19:04:16,445 : INFO : EPOCH 90: training on 176450 raw words (32965 effective words) took 0.0s, 1470793 effective words/s\n",
      "2023-07-06 19:04:16,467 : INFO : EPOCH 91: training on 176450 raw words (32745 effective words) took 0.0s, 1529173 effective words/s\n",
      "2023-07-06 19:04:16,490 : INFO : EPOCH 92: training on 176450 raw words (32795 effective words) took 0.0s, 1557008 effective words/s\n",
      "2023-07-06 19:04:16,513 : INFO : EPOCH 93: training on 176450 raw words (32904 effective words) took 0.0s, 1503945 effective words/s\n",
      "2023-07-06 19:04:16,536 : INFO : EPOCH 94: training on 176450 raw words (33014 effective words) took 0.0s, 1477511 effective words/s\n",
      "2023-07-06 19:04:16,559 : INFO : EPOCH 95: training on 176450 raw words (32660 effective words) took 0.0s, 1547641 effective words/s\n",
      "2023-07-06 19:04:16,581 : INFO : EPOCH 96: training on 176450 raw words (32976 effective words) took 0.0s, 1521057 effective words/s\n",
      "2023-07-06 19:04:16,604 : INFO : EPOCH 97: training on 176450 raw words (32964 effective words) took 0.0s, 1517252 effective words/s\n",
      "2023-07-06 19:04:16,626 : INFO : EPOCH 98: training on 176450 raw words (32746 effective words) took 0.0s, 1532933 effective words/s\n",
      "2023-07-06 19:04:16,649 : INFO : EPOCH 99: training on 176450 raw words (33117 effective words) took 0.0s, 1519541 effective words/s\n",
      "2023-07-06 19:04:16,649 : INFO : Doc2Vec lifecycle event {'msg': 'training on 17645000 raw words (3288981 effective words) took 2.3s, 1410417 effective words/s', 'datetime': '2023-07-06T19:04:16.649915', 'gensim': '4.3.1', 'python': '3.10.12 (main, Jun 20 2023, 19:43:52) [Clang 14.0.3 (clang-1403.0.22.14.1)]', 'platform': 'macOS-13.4.1-arm64-arm-64bit', 'event': 'train'}\n"
     ]
    }
   ],
   "source": [
    "# Training\n",
    "model.train(train_corpus, total_examples=model.corpus_count, epochs=model.epochs)"
   ]
  },
  {
   "cell_type": "code",
   "execution_count": 194,
   "id": "eda1278e",
   "metadata": {},
   "outputs": [
    {
     "data": {
      "text/plain": [
       "(10,)"
      ]
     },
     "execution_count": 194,
     "metadata": {},
     "output_type": "execute_result"
    }
   ],
   "source": [
    "vector = model.infer_vector(repo_info_train[next(iter(repo_info_train.keys()))][\"requirements\"])\n",
    "vector.shape"
   ]
  },
  {
   "cell_type": "markdown",
   "id": "316325e0",
   "metadata": {},
   "source": [
    "## 4. Similarity calculation"
   ]
  },
  {
   "cell_type": "code",
   "execution_count": 195,
   "id": "1732009a",
   "metadata": {},
   "outputs": [
    {
     "name": "stderr",
     "output_type": "stream",
     "text": [
      "100%|████████████████████████████████████| 49455/49455 [01:31<00:00, 543.23it/s]\n"
     ]
    },
    {
     "data": {
      "text/html": [
       "<div>\n",
       "<style scoped>\n",
       "    .dataframe tbody tr th:only-of-type {\n",
       "        vertical-align: middle;\n",
       "    }\n",
       "\n",
       "    .dataframe tbody tr th {\n",
       "        vertical-align: top;\n",
       "    }\n",
       "\n",
       "    .dataframe thead th {\n",
       "        text-align: right;\n",
       "    }\n",
       "</style>\n",
       "<table border=\"1\" class=\"dataframe\">\n",
       "  <thead>\n",
       "    <tr style=\"text-align: right;\">\n",
       "      <th></th>\n",
       "      <th>repo1</th>\n",
       "      <th>repo2</th>\n",
       "      <th>topic1</th>\n",
       "      <th>topic2</th>\n",
       "      <th>doc2vec_requirement</th>\n",
       "    </tr>\n",
       "  </thead>\n",
       "  <tbody>\n",
       "    <tr>\n",
       "      <th>0</th>\n",
       "      <td>jet-admin/jet-bridge</td>\n",
       "      <td>patrys/httmock</td>\n",
       "      <td>Admin Panels</td>\n",
       "      <td>Mock</td>\n",
       "      <td>0.308600</td>\n",
       "    </tr>\n",
       "    <tr>\n",
       "      <th>1</th>\n",
       "      <td>jet-admin/jet-bridge</td>\n",
       "      <td>pytransitions/transitions</td>\n",
       "      <td>Admin Panels</td>\n",
       "      <td>Design Patterns</td>\n",
       "      <td>0.282761</td>\n",
       "    </tr>\n",
       "    <tr>\n",
       "      <th>2</th>\n",
       "      <td>jet-admin/jet-bridge</td>\n",
       "      <td>keleshev/schema</td>\n",
       "      <td>Admin Panels</td>\n",
       "      <td>Data Validation</td>\n",
       "      <td>-0.665275</td>\n",
       "    </tr>\n",
       "    <tr>\n",
       "      <th>3</th>\n",
       "      <td>jet-admin/jet-bridge</td>\n",
       "      <td>dylanaraps/pywal</td>\n",
       "      <td>Admin Panels</td>\n",
       "      <td>Image Processing</td>\n",
       "      <td>0.222175</td>\n",
       "    </tr>\n",
       "    <tr>\n",
       "      <th>4</th>\n",
       "      <td>jet-admin/jet-bridge</td>\n",
       "      <td>PyCQA/modernize</td>\n",
       "      <td>Admin Panels</td>\n",
       "      <td>Compatibility</td>\n",
       "      <td>0.074159</td>\n",
       "    </tr>\n",
       "    <tr>\n",
       "      <th>...</th>\n",
       "      <td>...</td>\n",
       "      <td>...</td>\n",
       "      <td>...</td>\n",
       "      <td>...</td>\n",
       "      <td>...</td>\n",
       "    </tr>\n",
       "    <tr>\n",
       "      <th>49450</th>\n",
       "      <td>thauber/django-schedule</td>\n",
       "      <td>Miserlou/Zappa</td>\n",
       "      <td>Job Scheduler</td>\n",
       "      <td>Serverless Frameworks</td>\n",
       "      <td>-0.203911</td>\n",
       "    </tr>\n",
       "    <tr>\n",
       "      <th>49451</th>\n",
       "      <td>thauber/django-schedule</td>\n",
       "      <td>jek/blinker</td>\n",
       "      <td>Job Scheduler</td>\n",
       "      <td>Miscellaneous</td>\n",
       "      <td>0.061479</td>\n",
       "    </tr>\n",
       "    <tr>\n",
       "      <th>49452</th>\n",
       "      <td>Yelp/mrjob</td>\n",
       "      <td>Miserlou/Zappa</td>\n",
       "      <td>Batch Processing</td>\n",
       "      <td>Serverless Frameworks</td>\n",
       "      <td>-0.313502</td>\n",
       "    </tr>\n",
       "    <tr>\n",
       "      <th>49453</th>\n",
       "      <td>Yelp/mrjob</td>\n",
       "      <td>jek/blinker</td>\n",
       "      <td>Batch Processing</td>\n",
       "      <td>Miscellaneous</td>\n",
       "      <td>0.228932</td>\n",
       "    </tr>\n",
       "    <tr>\n",
       "      <th>49454</th>\n",
       "      <td>Miserlou/Zappa</td>\n",
       "      <td>jek/blinker</td>\n",
       "      <td>Serverless Frameworks</td>\n",
       "      <td>Miscellaneous</td>\n",
       "      <td>-0.099794</td>\n",
       "    </tr>\n",
       "  </tbody>\n",
       "</table>\n",
       "<p>49455 rows × 5 columns</p>\n",
       "</div>"
      ],
      "text/plain": [
       "                         repo1                      repo2  \\\n",
       "0         jet-admin/jet-bridge             patrys/httmock   \n",
       "1         jet-admin/jet-bridge  pytransitions/transitions   \n",
       "2         jet-admin/jet-bridge            keleshev/schema   \n",
       "3         jet-admin/jet-bridge           dylanaraps/pywal   \n",
       "4         jet-admin/jet-bridge            PyCQA/modernize   \n",
       "...                        ...                        ...   \n",
       "49450  thauber/django-schedule             Miserlou/Zappa   \n",
       "49451  thauber/django-schedule                jek/blinker   \n",
       "49452               Yelp/mrjob             Miserlou/Zappa   \n",
       "49453               Yelp/mrjob                jek/blinker   \n",
       "49454           Miserlou/Zappa                jek/blinker   \n",
       "\n",
       "                      topic1                 topic2  doc2vec_requirement  \n",
       "0               Admin Panels                   Mock             0.308600  \n",
       "1               Admin Panels        Design Patterns             0.282761  \n",
       "2               Admin Panels        Data Validation            -0.665275  \n",
       "3               Admin Panels       Image Processing             0.222175  \n",
       "4               Admin Panels          Compatibility             0.074159  \n",
       "...                      ...                    ...                  ...  \n",
       "49450          Job Scheduler  Serverless Frameworks            -0.203911  \n",
       "49451          Job Scheduler          Miscellaneous             0.061479  \n",
       "49452       Batch Processing  Serverless Frameworks            -0.313502  \n",
       "49453       Batch Processing          Miscellaneous             0.228932  \n",
       "49454  Serverless Frameworks          Miscellaneous            -0.099794  \n",
       "\n",
       "[49455 rows x 5 columns]"
      ]
     },
     "execution_count": 195,
     "metadata": {},
     "output_type": "execute_result"
    }
   ],
   "source": [
    "import torch\n",
    "from tqdm import tqdm\n",
    "from torch.nn import CosineSimilarity\n",
    "from itertools import combinations\n",
    "import pandas as pd\n",
    "\n",
    "cossim = CosineSimilarity(dim=0, eps=1e-8)\n",
    "res = []\n",
    "num_of_repos = len(repo_info_train)\n",
    "num_of_rows = num_of_repos * (num_of_repos - 1) // 2\n",
    "\n",
    "for repo1, repo2 in tqdm(combinations(repo_info_train.keys(), 2), total=num_of_rows):\n",
    "    row = [repo1, repo2, repo_info_train[repo1][\"topic\"], repo_info_train[repo2][\"topic\"]]\n",
    "    embedding1 = torch.tensor(model.infer_vector(repo_info_train[repo1][\"requirements\"]))\n",
    "    embedding2 = torch.tensor(model.infer_vector(repo_info_train[repo2][\"requirements\"]))\n",
    "    similarity = cossim(embedding1, embedding2).cpu().detach().numpy().item()\n",
    "    row.append(similarity)\n",
    "\n",
    "    res.append(row)\n",
    "\n",
    "df = pd.DataFrame(res, columns=[\"repo1\", \"repo2\", \"topic1\", \"topic2\", \"doc2vec_requirement\"])\n",
    "df"
   ]
  },
  {
   "cell_type": "code",
   "execution_count": 196,
   "id": "23a5612a",
   "metadata": {},
   "outputs": [
    {
     "data": {
      "text/html": [
       "<div>\n",
       "<style scoped>\n",
       "    .dataframe tbody tr th:only-of-type {\n",
       "        vertical-align: middle;\n",
       "    }\n",
       "\n",
       "    .dataframe tbody tr th {\n",
       "        vertical-align: top;\n",
       "    }\n",
       "\n",
       "    .dataframe thead th {\n",
       "        text-align: right;\n",
       "    }\n",
       "</style>\n",
       "<table border=\"1\" class=\"dataframe\">\n",
       "  <thead>\n",
       "    <tr style=\"text-align: right;\">\n",
       "      <th></th>\n",
       "      <th>repo1</th>\n",
       "      <th>repo2</th>\n",
       "      <th>topic1</th>\n",
       "      <th>topic2</th>\n",
       "      <th>doc2vec_requirement</th>\n",
       "    </tr>\n",
       "  </thead>\n",
       "  <tbody>\n",
       "    <tr>\n",
       "      <th>0</th>\n",
       "      <td>jet-admin/jet-bridge</td>\n",
       "      <td>patrys/httmock</td>\n",
       "      <td>Admin Panels</td>\n",
       "      <td>Mock</td>\n",
       "      <td>0.308600</td>\n",
       "    </tr>\n",
       "    <tr>\n",
       "      <th>1</th>\n",
       "      <td>jet-admin/jet-bridge</td>\n",
       "      <td>pytransitions/transitions</td>\n",
       "      <td>Admin Panels</td>\n",
       "      <td>Design Patterns</td>\n",
       "      <td>0.282761</td>\n",
       "    </tr>\n",
       "    <tr>\n",
       "      <th>2</th>\n",
       "      <td>jet-admin/jet-bridge</td>\n",
       "      <td>keleshev/schema</td>\n",
       "      <td>Admin Panels</td>\n",
       "      <td>Data Validation</td>\n",
       "      <td>-0.665275</td>\n",
       "    </tr>\n",
       "    <tr>\n",
       "      <th>3</th>\n",
       "      <td>jet-admin/jet-bridge</td>\n",
       "      <td>dylanaraps/pywal</td>\n",
       "      <td>Admin Panels</td>\n",
       "      <td>Image Processing</td>\n",
       "      <td>0.222175</td>\n",
       "    </tr>\n",
       "    <tr>\n",
       "      <th>4</th>\n",
       "      <td>jet-admin/jet-bridge</td>\n",
       "      <td>PyCQA/modernize</td>\n",
       "      <td>Admin Panels</td>\n",
       "      <td>Compatibility</td>\n",
       "      <td>0.074159</td>\n",
       "    </tr>\n",
       "    <tr>\n",
       "      <th>...</th>\n",
       "      <td>...</td>\n",
       "      <td>...</td>\n",
       "      <td>...</td>\n",
       "      <td>...</td>\n",
       "      <td>...</td>\n",
       "    </tr>\n",
       "    <tr>\n",
       "      <th>49450</th>\n",
       "      <td>thauber/django-schedule</td>\n",
       "      <td>Miserlou/Zappa</td>\n",
       "      <td>Job Scheduler</td>\n",
       "      <td>Serverless Frameworks</td>\n",
       "      <td>-0.203911</td>\n",
       "    </tr>\n",
       "    <tr>\n",
       "      <th>49451</th>\n",
       "      <td>thauber/django-schedule</td>\n",
       "      <td>jek/blinker</td>\n",
       "      <td>Job Scheduler</td>\n",
       "      <td>Miscellaneous</td>\n",
       "      <td>0.061479</td>\n",
       "    </tr>\n",
       "    <tr>\n",
       "      <th>49452</th>\n",
       "      <td>Yelp/mrjob</td>\n",
       "      <td>Miserlou/Zappa</td>\n",
       "      <td>Batch Processing</td>\n",
       "      <td>Serverless Frameworks</td>\n",
       "      <td>-0.313502</td>\n",
       "    </tr>\n",
       "    <tr>\n",
       "      <th>49453</th>\n",
       "      <td>Yelp/mrjob</td>\n",
       "      <td>jek/blinker</td>\n",
       "      <td>Batch Processing</td>\n",
       "      <td>Miscellaneous</td>\n",
       "      <td>0.228932</td>\n",
       "    </tr>\n",
       "    <tr>\n",
       "      <th>49454</th>\n",
       "      <td>Miserlou/Zappa</td>\n",
       "      <td>jek/blinker</td>\n",
       "      <td>Serverless Frameworks</td>\n",
       "      <td>Miscellaneous</td>\n",
       "      <td>-0.099794</td>\n",
       "    </tr>\n",
       "  </tbody>\n",
       "</table>\n",
       "<p>49455 rows × 5 columns</p>\n",
       "</div>"
      ],
      "text/plain": [
       "                         repo1                      repo2  \\\n",
       "0         jet-admin/jet-bridge             patrys/httmock   \n",
       "1         jet-admin/jet-bridge  pytransitions/transitions   \n",
       "2         jet-admin/jet-bridge            keleshev/schema   \n",
       "3         jet-admin/jet-bridge           dylanaraps/pywal   \n",
       "4         jet-admin/jet-bridge            PyCQA/modernize   \n",
       "...                        ...                        ...   \n",
       "49450  thauber/django-schedule             Miserlou/Zappa   \n",
       "49451  thauber/django-schedule                jek/blinker   \n",
       "49452               Yelp/mrjob             Miserlou/Zappa   \n",
       "49453               Yelp/mrjob                jek/blinker   \n",
       "49454           Miserlou/Zappa                jek/blinker   \n",
       "\n",
       "                      topic1                 topic2  doc2vec_requirement  \n",
       "0               Admin Panels                   Mock             0.308600  \n",
       "1               Admin Panels        Design Patterns             0.282761  \n",
       "2               Admin Panels        Data Validation            -0.665275  \n",
       "3               Admin Panels       Image Processing             0.222175  \n",
       "4               Admin Panels          Compatibility             0.074159  \n",
       "...                      ...                    ...                  ...  \n",
       "49450          Job Scheduler  Serverless Frameworks            -0.203911  \n",
       "49451          Job Scheduler          Miscellaneous             0.061479  \n",
       "49452       Batch Processing  Serverless Frameworks            -0.313502  \n",
       "49453       Batch Processing          Miscellaneous             0.228932  \n",
       "49454  Serverless Frameworks          Miscellaneous            -0.099794  \n",
       "\n",
       "[49455 rows x 5 columns]"
      ]
     },
     "execution_count": 196,
     "metadata": {},
     "output_type": "execute_result"
    }
   ],
   "source": [
    "df.dropna(inplace=True)\n",
    "df.reset_index(drop=True, inplace=True)\n",
    "df"
   ]
  },
  {
   "cell_type": "code",
   "execution_count": 197,
   "id": "e3ff86d0",
   "metadata": {},
   "outputs": [
    {
     "data": {
      "text/html": [
       "<div>\n",
       "<style scoped>\n",
       "    .dataframe tbody tr th:only-of-type {\n",
       "        vertical-align: middle;\n",
       "    }\n",
       "\n",
       "    .dataframe tbody tr th {\n",
       "        vertical-align: top;\n",
       "    }\n",
       "\n",
       "    .dataframe thead th {\n",
       "        text-align: right;\n",
       "    }\n",
       "</style>\n",
       "<table border=\"1\" class=\"dataframe\">\n",
       "  <thead>\n",
       "    <tr style=\"text-align: right;\">\n",
       "      <th></th>\n",
       "      <th>repo1</th>\n",
       "      <th>repo2</th>\n",
       "      <th>topic1</th>\n",
       "      <th>topic2</th>\n",
       "      <th>doc2vec_requirement</th>\n",
       "    </tr>\n",
       "  </thead>\n",
       "  <tbody>\n",
       "    <tr>\n",
       "      <th>0</th>\n",
       "      <td>shinux/PyTime</td>\n",
       "      <td>vinta/pangu.py</td>\n",
       "      <td>Date and Time</td>\n",
       "      <td>Specific Formats Processing - General</td>\n",
       "      <td>1.000000</td>\n",
       "    </tr>\n",
       "    <tr>\n",
       "      <th>1</th>\n",
       "      <td>dylanaraps/pywal</td>\n",
       "      <td>martinblech/xmltodict</td>\n",
       "      <td>Image Processing</td>\n",
       "      <td>HTML Manipulation</td>\n",
       "      <td>1.000000</td>\n",
       "    </tr>\n",
       "    <tr>\n",
       "      <th>2</th>\n",
       "      <td>vinta/pangu.py</td>\n",
       "      <td>martinblech/xmltodict</td>\n",
       "      <td>Specific Formats Processing - General</td>\n",
       "      <td>HTML Manipulation</td>\n",
       "      <td>1.000000</td>\n",
       "    </tr>\n",
       "    <tr>\n",
       "      <th>3</th>\n",
       "      <td>glamp/bashplotlib</td>\n",
       "      <td>shinux/PyTime</td>\n",
       "      <td>Terminal Rendering</td>\n",
       "      <td>Date and Time</td>\n",
       "      <td>1.000000</td>\n",
       "    </tr>\n",
       "    <tr>\n",
       "      <th>4</th>\n",
       "      <td>glamp/bashplotlib</td>\n",
       "      <td>unoconv/unoconv</td>\n",
       "      <td>Terminal Rendering</td>\n",
       "      <td>Office</td>\n",
       "      <td>1.000000</td>\n",
       "    </tr>\n",
       "    <tr>\n",
       "      <th>...</th>\n",
       "      <td>...</td>\n",
       "      <td>...</td>\n",
       "      <td>...</td>\n",
       "      <td>...</td>\n",
       "      <td>...</td>\n",
       "    </tr>\n",
       "    <tr>\n",
       "      <th>49450</th>\n",
       "      <td>Alir3z4/html2text</td>\n",
       "      <td>spotify/dh-virtualenv</td>\n",
       "      <td>Web Content Extracting</td>\n",
       "      <td>Distribution</td>\n",
       "      <td>-0.919230</td>\n",
       "    </tr>\n",
       "    <tr>\n",
       "      <th>49451</th>\n",
       "      <td>spotify/dh-virtualenv</td>\n",
       "      <td>faif/python-patterns</td>\n",
       "      <td>Distribution</td>\n",
       "      <td>Design Patterns</td>\n",
       "      <td>-0.919230</td>\n",
       "    </tr>\n",
       "    <tr>\n",
       "      <th>49452</th>\n",
       "      <td>django-haystack/pysolr</td>\n",
       "      <td>bokeh/bokeh</td>\n",
       "      <td>Search</td>\n",
       "      <td>Data Visualization</td>\n",
       "      <td>-0.921980</td>\n",
       "    </tr>\n",
       "    <tr>\n",
       "      <th>49453</th>\n",
       "      <td>WiserTogether/django-remote-forms</td>\n",
       "      <td>stephenmcd/hot-redis</td>\n",
       "      <td>Forms</td>\n",
       "      <td>NoSQL Databases</td>\n",
       "      <td>-0.924973</td>\n",
       "    </tr>\n",
       "    <tr>\n",
       "      <th>49454</th>\n",
       "      <td>sdispater/orator</td>\n",
       "      <td>pallets/itsdangerous</td>\n",
       "      <td>Relational Databases</td>\n",
       "      <td>Miscellaneous</td>\n",
       "      <td>-0.932527</td>\n",
       "    </tr>\n",
       "  </tbody>\n",
       "</table>\n",
       "<p>49455 rows × 5 columns</p>\n",
       "</div>"
      ],
      "text/plain": [
       "                                   repo1                  repo2  \\\n",
       "0                          shinux/PyTime         vinta/pangu.py   \n",
       "1                       dylanaraps/pywal  martinblech/xmltodict   \n",
       "2                         vinta/pangu.py  martinblech/xmltodict   \n",
       "3                      glamp/bashplotlib          shinux/PyTime   \n",
       "4                      glamp/bashplotlib        unoconv/unoconv   \n",
       "...                                  ...                    ...   \n",
       "49450                  Alir3z4/html2text  spotify/dh-virtualenv   \n",
       "49451              spotify/dh-virtualenv   faif/python-patterns   \n",
       "49452             django-haystack/pysolr            bokeh/bokeh   \n",
       "49453  WiserTogether/django-remote-forms   stephenmcd/hot-redis   \n",
       "49454                   sdispater/orator   pallets/itsdangerous   \n",
       "\n",
       "                                      topic1  \\\n",
       "0                              Date and Time   \n",
       "1                           Image Processing   \n",
       "2      Specific Formats Processing - General   \n",
       "3                         Terminal Rendering   \n",
       "4                         Terminal Rendering   \n",
       "...                                      ...   \n",
       "49450                 Web Content Extracting   \n",
       "49451                           Distribution   \n",
       "49452                                 Search   \n",
       "49453                                  Forms   \n",
       "49454                   Relational Databases   \n",
       "\n",
       "                                      topic2  doc2vec_requirement  \n",
       "0      Specific Formats Processing - General             1.000000  \n",
       "1                          HTML Manipulation             1.000000  \n",
       "2                          HTML Manipulation             1.000000  \n",
       "3                              Date and Time             1.000000  \n",
       "4                                     Office             1.000000  \n",
       "...                                      ...                  ...  \n",
       "49450                           Distribution            -0.919230  \n",
       "49451                        Design Patterns            -0.919230  \n",
       "49452                     Data Visualization            -0.921980  \n",
       "49453                        NoSQL Databases            -0.924973  \n",
       "49454                          Miscellaneous            -0.932527  \n",
       "\n",
       "[49455 rows x 5 columns]"
      ]
     },
     "execution_count": 197,
     "metadata": {},
     "output_type": "execute_result"
    }
   ],
   "source": [
    "df.sort_values(\"doc2vec_requirement\", ascending=False).reset_index(drop=True)"
   ]
  },
  {
   "cell_type": "code",
   "execution_count": 198,
   "id": "e9960f08",
   "metadata": {},
   "outputs": [],
   "source": [
    "df.to_csv(\"requirements_doc2vec_evaluation_train_315.csv\")"
   ]
  },
  {
   "cell_type": "markdown",
   "id": "cb57384c",
   "metadata": {},
   "source": [
    "## 5. Evaluation"
   ]
  },
  {
   "cell_type": "code",
   "execution_count": 199,
   "id": "488be09c",
   "metadata": {},
   "outputs": [
    {
     "data": {
      "image/png": "[encoded data removed]",
      "text/plain": [
       "<Figure size 1200x1000 with 1 Axes>"
      ]
     },
     "metadata": {},
     "output_type": "display_data"
    }
   ],
   "source": [
    "from sklearn.metrics import roc_curve, auc\n",
    "import matplotlib.pyplot as plt\n",
    "\n",
    "model_auc = {}\n",
    "y_true = df['topic1'] == df['topic2']\n",
    "fig = plt.figure(figsize=(12, 10))\n",
    "\n",
    "model_names = [\"doc2vec_requirement\"]\n",
    "\n",
    "def roc(model_name):\n",
    "    y_score = df[model_name]\n",
    "    fpr, tpr, thresholds = roc_curve(y_true, y_score)\n",
    "    roc_auc = auc(fpr, tpr)\n",
    "    model_auc[model_name] = roc_auc\n",
    "\n",
    "    plt.plot(fpr, tpr, label=model_name)\n",
    "\n",
    "\n",
    "for model_name in model_names:\n",
    "    roc(model_name)\n",
    "\n",
    "# Order labels by each model's auc score\n",
    "handles, labels = plt.gca().get_legend_handles_labels()\n",
    "order = sorted(range(len(labels)), key=lambda k: -model_auc[labels[k]])\n",
    "ordered_handles = [handles[idx] for idx in order]\n",
    "ordered_labels = [f'{labels[idx]} (AUC = {model_auc[labels[idx]]:.3f})' for idx in order]\n",
    "plt.legend(ordered_handles, ordered_labels, loc=\"lower right\")\n",
    "\n",
    "plt.plot([0, 1], [0, 1], 'k--', label='Random guess')\n",
    "plt.xlim([0.0, 1.0])\n",
    "plt.ylim([0.0, 1.05])\n",
    "plt.xlabel('False Positive Rate')\n",
    "plt.ylabel('True Positive Rate')\n",
    "plt.title(f'Receiver Operating Characteristic of different models')\n",
    "# Evaluation result\n",
    "plt.savefig('roc_doc2vec_requirements_evaluation_train_315.png')\n",
    "plt.show()"
   ]
  },
  {
   "cell_type": "code",
   "execution_count": 200,
   "id": "d7beceba",
   "metadata": {},
   "outputs": [
    {
     "data": {
      "text/plain": [
       "{'doc2vec_requirement': 0.5267292166080564}"
      ]
     },
     "execution_count": 200,
     "metadata": {},
     "output_type": "execute_result"
    }
   ],
   "source": [
    "model_auc"
   ]
  }
 ],
 "metadata": {
  "kernelspec": {
   "display_name": "Python 3 (ipykernel)",
   "language": "python",
   "name": "python3"
  },
  "language_info": {
   "codemirror_mode": {
    "name": "ipython",
    "version": 3
   },
   "file_extension": ".py",
   "mimetype": "text/x-python",
   "name": "python",
   "nbconvert_exporter": "python",
   "pygments_lexer": "ipython3",
   "version": "3.10.12"
  }
 },
 "nbformat": 4,
 "nbformat_minor": 5
}
